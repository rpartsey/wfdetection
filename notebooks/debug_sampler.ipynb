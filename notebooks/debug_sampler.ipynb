{
 "cells": [
  {
   "cell_type": "code",
   "execution_count": 1,
   "metadata": {},
   "outputs": [],
   "source": [
    "import sys\n",
    "sys.path.insert(0, \"../\")"
   ]
  },
  {
   "cell_type": "code",
   "execution_count": 2,
   "metadata": {},
   "outputs": [],
   "source": [
    "import pandas as pd\n",
    "import numpy as np\n",
    "from dataloaders.sampler import ImbalancedDatasetSampler\n",
    "import os\n",
    "from utils.train_validation_split import random_train_val_split\n",
    "from dataloaders.binary_dataloader import BinaryLoader"
   ]
  },
  {
   "cell_type": "code",
   "execution_count": 3,
   "metadata": {},
   "outputs": [],
   "source": [
    "import yaml"
   ]
  },
  {
   "cell_type": "code",
   "execution_count": 4,
   "metadata": {
    "scrolled": true
   },
   "outputs": [
    {
     "name": "stderr",
     "output_type": "stream",
     "text": [
      "/home/inkognita/.virtualenvs/ml-py3/lib/python3.5/site-packages/ipykernel_launcher.py:1: YAMLLoadWarning: calling yaml.load() without Loader=... is deprecated, as the default Loader is unsafe. Please read https://msg.pyyaml.org/load for full details.\n",
      "  \"\"\"Entry point for launching an IPython kernel.\n"
     ]
    }
   ],
   "source": [
    "config = yaml.load(open(\"../torchhub_unet.yaml\", \"rb\"))"
   ]
  },
  {
   "cell_type": "code",
   "execution_count": 5,
   "metadata": {},
   "outputs": [],
   "source": [
    "config[\"csv_path\"] = \"../data/raw/train-rle.csv\""
   ]
  },
  {
   "cell_type": "code",
   "execution_count": 6,
   "metadata": {},
   "outputs": [],
   "source": [
    "config['data_path'] = \"../data/processed/\""
   ]
  },
  {
   "cell_type": "code",
   "execution_count": 7,
   "metadata": {},
   "outputs": [
    {
     "name": "stdout",
     "output_type": "stream",
     "text": [
      "10675\n"
     ]
    },
    {
     "name": "stderr",
     "output_type": "stream",
     "text": [
      "/home/inkognita/.virtualenvs/ml-py3/lib/python3.5/site-packages/pandas/core/frame.py:3940: SettingWithCopyWarning: \n",
      "A value is trying to be set on a copy of a slice from a DataFrame\n",
      "\n",
      "See the caveats in the documentation: http://pandas.pydata.org/pandas-docs/stable/indexing.html#indexing-view-versus-copy\n",
      "  errors=errors)\n"
     ]
    }
   ],
   "source": [
    "df = pd.read_csv(config[\"csv_path\"])\n",
    "df = df.groupby(\"ImageId\").first().reset_index()\n",
    "df[\"mask_exists\"] = df[' EncodedPixels'] != ' -1'\n",
    "# df = df.sample(1000)\n",
    "\n",
    "# and leave only ids which really have labels\n",
    "valid_file_names = os.listdir(os.path.join(config['data_path'], 'mask'))\n",
    "valid_image_ids = set(x.strip(\".png\") for x in valid_file_names)\n",
    "cut_df = df[df['ImageId'].isin(valid_image_ids)].reset_index(drop=True)\n",
    "\n",
    "print(len(cut_df))\n",
    "train_csv, val_csv = random_train_val_split(cut_df,\n",
    "                                            config[\"validation_fraction\"],\n",
    "                                            config[\"random_state\"])\n",
    "\n",
    "\n",
    "train_data = BinaryLoader(train_csv, config['data_path'])\n",
    "val_data = BinaryLoader(val_csv, config['data_path'])\n"
   ]
  },
  {
   "cell_type": "code",
   "execution_count": 8,
   "metadata": {},
   "outputs": [],
   "source": [
    "from torch.utils.data import DataLoader"
   ]
  },
  {
   "cell_type": "code",
   "execution_count": 9,
   "metadata": {},
   "outputs": [],
   "source": [
    "data = DataLoader(train_data,\n",
    "                  sampler=ImbalancedDatasetSampler(train_data),\n",
    "                       batch_size=32)"
   ]
  },
  {
   "cell_type": "code",
   "execution_count": 11,
   "metadata": {},
   "outputs": [
    {
     "data": {
      "text/plain": [
       "8540"
      ]
     },
     "execution_count": 11,
     "metadata": {},
     "output_type": "execute_result"
    }
   ],
   "source": [
    "len(train_data)"
   ]
  },
  {
   "cell_type": "code",
   "execution_count": 12,
   "metadata": {},
   "outputs": [],
   "source": [
    "from matplotlib import pyplot as plt"
   ]
  },
  {
   "cell_type": "code",
   "execution_count": 17,
   "metadata": {
    "scrolled": false
   },
   "outputs": [
    {
     "name": "stdout",
     "output_type": "stream",
     "text": [
      "tensor(0.5312)\n",
      "tensor(0.3438)\n",
      "tensor(0.5312)\n",
      "tensor(0.4375)\n",
      "tensor(0.5938)\n",
      "tensor(0.5000)\n",
      "tensor(0.6562)\n",
      "tensor(0.4375)\n",
      "tensor(0.3750)\n",
      "tensor(0.5000)\n",
      "tensor(0.5625)\n",
      "tensor(0.5625)\n",
      "tensor(0.4375)\n",
      "tensor(0.3438)\n",
      "tensor(0.5000)\n",
      "tensor(0.5312)\n",
      "tensor(0.5312)\n",
      "tensor(0.5938)\n",
      "tensor(0.4062)\n",
      "tensor(0.5312)\n",
      "tensor(0.5938)\n",
      "tensor(0.5938)\n",
      "tensor(0.5312)\n",
      "tensor(0.5000)\n",
      "tensor(0.5000)\n",
      "tensor(0.6250)\n",
      "tensor(0.4688)\n",
      "tensor(0.5938)\n",
      "tensor(0.4375)\n",
      "tensor(0.4375)\n",
      "tensor(0.4375)\n",
      "tensor(0.5312)\n",
      "tensor(0.3750)\n",
      "tensor(0.5000)\n",
      "tensor(0.5000)\n",
      "tensor(0.4688)\n",
      "tensor(0.6875)\n",
      "tensor(0.5000)\n",
      "tensor(0.5000)\n",
      "tensor(0.3750)\n",
      "tensor(0.4688)\n",
      "tensor(0.5000)\n",
      "tensor(0.3750)\n",
      "tensor(0.5000)\n",
      "tensor(0.4688)\n",
      "tensor(0.3750)\n",
      "tensor(0.5625)\n",
      "tensor(0.4375)\n",
      "tensor(0.4062)\n",
      "tensor(0.4375)\n",
      "tensor(0.3750)\n",
      "tensor(0.4688)\n",
      "tensor(0.3750)\n",
      "tensor(0.5938)\n",
      "tensor(0.5312)\n",
      "tensor(0.4062)\n",
      "tensor(0.5312)\n",
      "tensor(0.4062)\n",
      "tensor(0.5938)\n",
      "tensor(0.4062)\n",
      "tensor(0.5000)\n",
      "tensor(0.4688)\n",
      "tensor(0.4062)\n",
      "tensor(0.3438)\n",
      "tensor(0.3750)\n",
      "tensor(0.3438)\n",
      "tensor(0.5625)\n",
      "tensor(0.4688)\n",
      "tensor(0.5625)\n",
      "tensor(0.4688)\n",
      "tensor(0.3125)\n",
      "tensor(0.5000)\n",
      "tensor(0.4688)\n",
      "tensor(0.5625)\n",
      "tensor(0.5000)\n",
      "tensor(0.4375)\n",
      "tensor(0.4062)\n",
      "tensor(0.4062)\n",
      "tensor(0.4688)\n",
      "tensor(0.6250)\n",
      "tensor(0.5625)\n",
      "tensor(0.3438)\n",
      "tensor(0.5000)\n",
      "tensor(0.5312)\n",
      "tensor(0.6250)\n",
      "tensor(0.5312)\n",
      "tensor(0.5938)\n",
      "tensor(0.5938)\n",
      "tensor(0.5000)\n",
      "tensor(0.5938)\n",
      "tensor(0.4688)\n",
      "tensor(0.6562)\n",
      "tensor(0.4062)\n",
      "tensor(0.5312)\n",
      "tensor(0.5312)\n",
      "tensor(0.3125)\n",
      "tensor(0.3750)\n",
      "tensor(0.4375)\n",
      "tensor(0.5000)\n",
      "tensor(0.4375)\n",
      "tensor(0.5938)\n",
      "tensor(0.5312)\n",
      "tensor(0.5625)\n",
      "tensor(0.3750)\n",
      "tensor(0.5625)\n",
      "tensor(0.5000)\n",
      "tensor(0.4375)\n",
      "tensor(0.5938)\n",
      "tensor(0.5000)\n",
      "tensor(0.4375)\n",
      "tensor(0.5938)\n",
      "tensor(0.6250)\n",
      "tensor(0.5000)\n",
      "tensor(0.6562)\n",
      "tensor(0.5625)\n",
      "tensor(0.3438)\n",
      "tensor(0.4062)\n",
      "tensor(0.4375)\n",
      "tensor(0.4375)\n",
      "tensor(0.4375)\n",
      "tensor(0.2188)\n",
      "tensor(0.5312)\n",
      "tensor(0.4688)\n",
      "tensor(0.5000)\n",
      "tensor(0.4062)\n",
      "tensor(0.4062)\n",
      "tensor(0.5938)\n",
      "tensor(0.3438)\n",
      "tensor(0.5312)\n",
      "tensor(0.3438)\n",
      "tensor(0.4688)\n",
      "tensor(0.5938)\n",
      "tensor(0.3438)\n",
      "tensor(0.4688)\n",
      "tensor(0.5000)\n",
      "tensor(0.4688)\n",
      "tensor(0.4688)\n",
      "tensor(0.5312)\n",
      "tensor(0.5938)\n",
      "tensor(0.5000)\n",
      "tensor(0.4688)\n",
      "tensor(0.4688)\n",
      "tensor(0.4375)\n",
      "tensor(0.4375)\n",
      "tensor(0.6562)\n",
      "tensor(0.4688)\n",
      "tensor(0.5312)\n",
      "tensor(0.6250)\n",
      "tensor(0.5312)\n",
      "tensor(0.4688)\n",
      "tensor(0.5625)\n",
      "tensor(0.5938)\n",
      "tensor(0.5312)\n",
      "tensor(0.5312)\n",
      "tensor(0.5000)\n",
      "tensor(0.4688)\n",
      "tensor(0.5000)\n",
      "tensor(0.5625)\n",
      "tensor(0.4375)\n",
      "tensor(0.5938)\n",
      "tensor(0.4375)\n",
      "tensor(0.4375)\n",
      "tensor(0.5938)\n",
      "tensor(0.5625)\n",
      "tensor(0.4375)\n",
      "tensor(0.5000)\n",
      "tensor(0.6250)\n",
      "tensor(0.5625)\n",
      "tensor(0.5000)\n",
      "tensor(0.3438)\n",
      "tensor(0.4062)\n",
      "tensor(0.4062)\n",
      "tensor(0.5938)\n",
      "tensor(0.3438)\n",
      "tensor(0.5625)\n",
      "tensor(0.6250)\n",
      "tensor(0.5000)\n",
      "tensor(0.5312)\n",
      "tensor(0.4688)\n",
      "tensor(0.5625)\n",
      "tensor(0.5625)\n",
      "tensor(0.4688)\n",
      "tensor(0.5625)\n",
      "tensor(0.5938)\n",
      "tensor(0.3750)\n",
      "tensor(0.4688)\n",
      "tensor(0.3750)\n",
      "tensor(0.3438)\n",
      "tensor(0.5312)\n",
      "tensor(0.4375)\n",
      "tensor(0.3750)\n",
      "tensor(0.6562)\n",
      "tensor(0.3750)\n",
      "tensor(0.4062)\n",
      "tensor(0.5000)\n",
      "tensor(0.5000)\n",
      "tensor(0.5625)\n",
      "tensor(0.3125)\n",
      "tensor(0.5000)\n",
      "tensor(0.4062)\n",
      "tensor(0.5000)\n",
      "tensor(0.5000)\n",
      "tensor(0.5312)\n",
      "tensor(0.5000)\n",
      "tensor(0.3750)\n",
      "tensor(0.4062)\n",
      "tensor(0.4062)\n",
      "tensor(0.5625)\n",
      "tensor(0.6250)\n",
      "tensor(0.4375)\n",
      "tensor(0.5312)\n",
      "tensor(0.5000)\n",
      "tensor(0.5312)\n",
      "tensor(0.4062)\n",
      "tensor(0.5625)\n",
      "tensor(0.5000)\n",
      "tensor(0.5625)\n",
      "tensor(0.5938)\n",
      "tensor(0.5000)\n",
      "tensor(0.4062)\n",
      "tensor(0.6250)\n",
      "tensor(0.5625)\n",
      "tensor(0.4062)\n",
      "tensor(0.5625)\n",
      "tensor(0.4375)\n",
      "tensor(0.5000)\n",
      "tensor(0.4062)\n",
      "tensor(0.5000)\n",
      "tensor(0.5625)\n",
      "tensor(0.4688)\n",
      "tensor(0.6250)\n",
      "tensor(0.4062)\n",
      "tensor(0.3750)\n",
      "tensor(0.6562)\n",
      "tensor(0.4062)\n",
      "tensor(0.3750)\n",
      "tensor(0.5312)\n",
      "tensor(0.5938)\n",
      "tensor(0.4062)\n",
      "tensor(0.2812)\n",
      "tensor(0.5000)\n",
      "tensor(0.3125)\n",
      "tensor(0.4688)\n",
      "tensor(0.3750)\n",
      "tensor(0.5312)\n",
      "tensor(0.4375)\n",
      "tensor(0.5312)\n",
      "tensor(0.6250)\n",
      "tensor(0.4688)\n",
      "tensor(0.5625)\n",
      "tensor(0.4062)\n",
      "tensor(0.5000)\n",
      "tensor(0.4062)\n",
      "tensor(0.5625)\n",
      "tensor(0.4375)\n",
      "tensor(0.6562)\n",
      "tensor(0.5312)\n",
      "tensor(0.4688)\n",
      "tensor(0.5625)\n",
      "tensor(0.4375)\n",
      "tensor(0.7812)\n",
      "tensor(0.5312)\n",
      "tensor(0.5625)\n",
      "tensor(0.5000)\n",
      "tensor(0.5312)\n",
      "tensor(0.5625)\n",
      "tensor(0.6429)\n"
     ]
    }
   ],
   "source": [
    "for _, _, _, v in data:\n",
    "    print(v.float().mean())\n"
   ]
  },
  {
   "cell_type": "code",
   "execution_count": null,
   "metadata": {},
   "outputs": [],
   "source": []
  }
 ],
 "metadata": {
  "kernelspec": {
   "display_name": "Python 3",
   "language": "python",
   "name": "python3"
  },
  "language_info": {
   "codemirror_mode": {
    "name": "ipython",
    "version": 3
   },
   "file_extension": ".py",
   "mimetype": "text/x-python",
   "name": "python",
   "nbconvert_exporter": "python",
   "pygments_lexer": "ipython3",
   "version": "3.5.2"
  }
 },
 "nbformat": 4,
 "nbformat_minor": 2
}
