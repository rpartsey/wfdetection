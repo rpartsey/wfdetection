{
 "cells": [
  {
   "cell_type": "code",
   "execution_count": 1,
   "metadata": {},
   "outputs": [],
   "source": [
    "import numpy as np\n",
    "import pandas as pd\n",
    "from matplotlib import pyplot as plt"
   ]
  },
  {
   "cell_type": "code",
   "execution_count": 11,
   "metadata": {},
   "outputs": [],
   "source": [
    "import torch"
   ]
  },
  {
   "cell_type": "code",
   "execution_count": 2,
   "metadata": {},
   "outputs": [
    {
     "data": {
      "text/plain": [
       "(1, 1, 5, 5)"
      ]
     },
     "execution_count": 2,
     "metadata": {},
     "output_type": "execute_result"
    }
   ],
   "source": [
    "\n",
    "a = np.ones((1, 1, 5, 5))\n",
    "b = np.ones((1, 1, 5, 5))\n",
    "np.stack([a, b]).mean(0).shape"
   ]
  },
  {
   "cell_type": "code",
   "execution_count": 38,
   "metadata": {},
   "outputs": [
    {
     "data": {
      "text/plain": [
       "tensor([[-0.2000, -0.2000, -0.2000, -0.2000, -0.2000],\n",
       "        [-0.2000, -0.2000, -0.2000, -0.2000, -0.2000],\n",
       "        [-0.2000, -0.2000, -0.2000, -0.2000, -0.2000],\n",
       "        [-0.2000, -0.2000, -0.2000, -0.2000, -0.2000],\n",
       "        [-0.2000, -0.2000, -0.2000, -0.2000, -0.2000]])"
      ]
     },
     "execution_count": 38,
     "metadata": {},
     "output_type": "execute_result"
    }
   ],
   "source": [
    "a = torch.ones((5,5), requires_grad=True).float()\n",
    "b = torch.zeros((5,5), requires_grad=True).float()\n",
    "z = torch.Tensor(np.ones((5,5))*0.5).float()\n",
    "z.requires_grad = True\n",
    "with torch.no_grad():\n",
    "    pass\n",
    "    f = z*a\n",
    "loss = (((f - b) ** 2).sum()) ** 0.5\n",
    "loss.backward()\n",
    "b.grad"
   ]
  },
  {
   "cell_type": "code",
   "execution_count": 71,
   "metadata": {},
   "outputs": [
    {
     "data": {
      "text/plain": [
       "1.3611111111111112"
      ]
     },
     "execution_count": 71,
     "metadata": {},
     "output_type": "execute_result"
    }
   ],
   "source": [
    "thresh_list = np.arange(0.3, 0.9999, 0.05)\n",
    "min_area_list = np.arange(0, 7000, 100)\n",
    "len(thresh_list) * len(min_area_list) * 5/60/60"
   ]
  },
  {
   "cell_type": "code",
   "execution_count": 72,
   "metadata": {},
   "outputs": [],
   "source": [
    "def base(data):\n",
    "    sample_data = data\n",
    "    sample_data = sample_data[(np.abs(sample_data[:, 0] - 0.5) < 0.2)]\n",
    "    print(data[:, 0].min())\n",
    "    print(\"#\", sample_data[np.argmin(sample_data[:, 1])])\n",
    "    print(\"#\", sample_data[np.argmax(sample_data[:, 2])])\n",
    "    print(\"#\", sample_data[np.argmax(sample_data[:, -1])])"
   ]
  },
  {
   "cell_type": "code",
   "execution_count": 73,
   "metadata": {},
   "outputs": [
    {
     "data": {
      "text/plain": [
       "(50, 5)"
      ]
     },
     "execution_count": 73,
     "metadata": {},
     "output_type": "execute_result"
    }
   ],
   "source": [
    "np.load(\"new_thresholds/second_accum_bug_find_threshold_dump.npy\").shape"
   ]
  },
  {
   "cell_type": "code",
   "execution_count": 74,
   "metadata": {},
   "outputs": [
    {
     "data": {
      "text/plain": [
       "(770, 5)"
      ]
     },
     "execution_count": 74,
     "metadata": {},
     "output_type": "execute_result"
    }
   ],
   "source": [
    "data.shape"
   ]
  },
  {
   "cell_type": "code",
   "execution_count": 75,
   "metadata": {},
   "outputs": [
    {
     "name": "stdout",
     "output_type": "stream",
     "text": [
      "2 [5.0000000e-01 3.6000000e+03 8.5525632e-01 9.6666664e-01 4.3965471e-01]\n",
      "3 [9.4999999e-01 6.9000000e+03 8.2483280e-01 9.9333334e-01 1.9626354e-01]\n",
      "4 [3.0000001e-01 8.0000000e+02 7.0570523e-01 7.5666666e-01 5.1560020e-01]\n",
      "0.2\n",
      "# [0.3        0.         0.6133206  0.64       0.51379657]\n",
      "# [5.0000000e-01 3.6000000e+03 8.5525632e-01 9.6666664e-01 4.3965471e-01]\n",
      "# [3.0000001e-01 8.0000000e+02 7.0570523e-01 7.5666666e-01 5.1560020e-01]\n"
     ]
    }
   ],
   "source": [
    "path = \"new_thresholds/accum_bug_find_threshold_dump.npy\"\n",
    "data = np.load(path)#.astype(np.float)\n",
    "data = np.vstack([data, np.load(\"new_thresholds/second_accum_bug_find_threshold_dump.npy\")])\n",
    "for i in range(2, 5):\n",
    "    print(i, data[np.argsort(data[:, i])[::-1]][0])\n",
    "base(data)"
   ]
  },
  {
   "cell_type": "code",
   "execution_count": 76,
   "metadata": {},
   "outputs": [
    {
     "name": "stdout",
     "output_type": "stream",
     "text": [
      "2 [5.0000000e-01 4.5000000e+03 8.4668142e-01 9.7000003e-01 3.8665766e-01]\n",
      "3 [9.4999999e-01 4.8000000e+03 8.2833511e-01 9.9333334e-01 2.1283092e-01]\n",
      "4 [0.25       0.         0.61733246 0.6433333  0.52033967]\n",
      "0.2\n",
      "# [0.3        0.         0.63038874 0.66       0.51992774]\n",
      "# [5.0000000e-01 4.5000000e+03 8.4668142e-01 9.7000003e-01 3.8665766e-01]\n",
      "# [0.3        0.         0.63038874 0.66       0.51992774]\n"
     ]
    }
   ],
   "source": [
    "path = \"new_thresholds/alignaug_find_threshold_dump.npy\"\n",
    "data = np.load(path)#.astype(np.float)\n",
    "data = np.vstack([data, np.load(\"new_thresholds/second_alignaug_find_threshold_dump.npy\")])\n",
    "for i in range(2, 5):\n",
    "    print(i, data[np.argsort(data[:, i])[::-1]][0])\n",
    "base(data)"
   ]
  },
  {
   "cell_type": "code",
   "execution_count": 77,
   "metadata": {},
   "outputs": [
    {
     "name": "stdout",
     "output_type": "stream",
     "text": [
      "2 [5.5000001e-01 3.3000000e+03 8.5972995e-01 9.7666669e-01 4.2351285e-01]\n",
      "3 [9.4999999e-01 5.4000000e+03 8.2801992e-01 9.9333334e-01 2.1133976e-01]\n",
      "4 [0.25       0.         0.6867709  0.73333335 0.51307595]\n",
      "0.2\n",
      "# [0.3        0.         0.6999138  0.75       0.51307374]\n",
      "# [5.5000001e-01 3.3000000e+03 8.5972995e-01 9.7666669e-01 4.2351285e-01]\n",
      "# [0.3        0.         0.6999138  0.75       0.51307374]\n"
     ]
    }
   ],
   "source": [
    "path = \"new_thresholds/alignaug_div_find_threshold_dump.npy\"\n",
    "data = np.load(path)#.astype(np.float)\n",
    "data = np.vstack([data, np.load(\"new_thresholds/second_alignaug_div_find_threshold_dump.npy\")])\n",
    "for i in range(2, 5):\n",
    "    print(i, data[np.argsort(data[:, i])[::-1]][0])\n",
    "base(data)"
   ]
  },
  {
   "cell_type": "code",
   "execution_count": null,
   "metadata": {},
   "outputs": [],
   "source": []
  },
  {
   "cell_type": "code",
   "execution_count": null,
   "metadata": {},
   "outputs": [],
   "source": []
  },
  {
   "cell_type": "code",
   "execution_count": null,
   "metadata": {},
   "outputs": [],
   "source": []
  },
  {
   "cell_type": "code",
   "execution_count": null,
   "metadata": {},
   "outputs": [],
   "source": []
  },
  {
   "cell_type": "code",
   "execution_count": null,
   "metadata": {},
   "outputs": [],
   "source": []
  },
  {
   "cell_type": "code",
   "execution_count": null,
   "metadata": {},
   "outputs": [],
   "source": []
  },
  {
   "cell_type": "code",
   "execution_count": 48,
   "metadata": {},
   "outputs": [
    {
     "name": "stdout",
     "output_type": "stream",
     "text": [
      "2 [8.0000001e-01 3.3000000e+03 8.5246569e-01 9.7000003e-01 4.1401944e-01]\n",
      "3 [9.4999999e-01 5.9000000e+03 8.3098692e-01 9.9333334e-01 2.2537483e-01]\n",
      "4 [  0.45       200.           0.7712117    0.8433333    0.50217134]\n",
      "0.45\n",
      "# [  0.45       100.           0.75542957   0.8233333    0.50212336]\n",
      "# [5.0000000e-01 4.2000000e+03 8.4916764e-01 9.6333331e-01 4.2328748e-01]\n",
      "# [  0.45       200.           0.7712117    0.8433333    0.50217134]\n",
      "2 [8.3999997e-01 2.9000000e+03 8.5377705e-01 9.7000003e-01 4.2022252e-01]\n",
      "3 [9.9000001e-01 7.9000000e+03 8.0619216e-01 9.9666667e-01 9.5651962e-02]\n",
      "4 [  0.35       100.           0.7403919    0.80333334   0.5055972 ]\n",
      "0.35\n",
      "# [  0.4        100.           0.7479002    0.81333333   0.5038105 ]\n",
      "# [5.600000e-01 3.900000e+03 8.494341e-01 9.633333e-01 4.245477e-01]\n",
      "# [  0.4        100.           0.7479002    0.81333333   0.5038105 ]\n",
      "2 [8.5000002e-01 2.3000000e+03 8.5848415e-01 9.8000002e-01 4.0518522e-01]\n",
      "3 [9.4999999e-01 7.9000000e+03 8.1859720e-01 9.9333334e-01 1.6676705e-01]\n",
      "4 [  0.4        100.           0.79942894   0.8833333    0.48643467]\n",
      "0.4\n",
      "# [  0.4        100.           0.79942894   0.8833333    0.48643467]\n",
      "# [5.500000e-01 3.200000e+03 8.546386e-01 9.700000e-01 4.242978e-01]\n",
      "# [  0.4        100.           0.79942894   0.8833333    0.48643467]\n"
     ]
    }
   ],
   "source": [
    "# alignaug_dice_find_threshold_dump.npy\n",
    "data = np.load(\"thresholds/alignaug_1024_find_threshold_dump.npy\")#.astype(np.float)\n",
    "for i in range(2, 5):\n",
    "    print(i, data[np.argsort(data[:, i])[::-1]][0])\n",
    "base(data)\n",
    "data = np.load(\"thresholds/2alignaug_1024_find_threshold_dump.npy\")#.astype(np.float)\n",
    "for i in range(2, 5):\n",
    "    print(i, data[np.argsort(data[:, i])[::-1]][0])\n",
    "base(data)\n",
    "data = np.load(\"thresholds/alignaug_dice_find_threshold_dump.npy\")#.astype(np.float)\n",
    "for i in range(2, 5):\n",
    "    print(i, data[np.argsort(data[:, i])[::-1]][0])\n",
    "base(data)"
   ]
  },
  {
   "cell_type": "code",
   "execution_count": 50,
   "metadata": {},
   "outputs": [
    {
     "name": "stdout",
     "output_type": "stream",
     "text": [
      "2 [8.9999998e-01 1.4000000e+03 8.6554992e-01 9.8333335e-01 4.2617440e-01]\n",
      "3 [9.4999999e-01 5.9000000e+03 8.3131796e-01 9.9000001e-01 2.3937537e-01]\n",
      "4 [  0.45       100.           0.790468     0.8666667    0.50621873]\n",
      "0.45\n",
      "# [  0.45       100.           0.790468     0.8666667    0.50621873]\n",
      "# [5.5000001e-01 4.9000000e+03 8.5929072e-01 9.8333335e-01 3.9656597e-01]\n",
      "# [  0.45       100.           0.790468     0.8666667    0.50621873]\n",
      "2 [8.8999999e-01 1.6000000e+03 8.6596197e-01 9.8333335e-01 4.2812347e-01]\n",
      "3 [9.9000001e-01 7.9000000e+03 8.0842149e-01 9.9333334e-01 1.1863221e-01]\n",
      "4 [  0.35       100.           0.78819346   0.86333334   0.5078941 ]\n",
      "0.35\n",
      "# [  0.4        100.           0.7906883    0.8666667    0.50726074]\n",
      "# [5.6999999e-01 2.7000000e+03 8.5956872e-01 9.6666664e-01 4.6005398e-01]\n",
      "# [  0.4        100.           0.7906883    0.8666667    0.50726074]\n",
      "2 [7.5000000e-01 1.9000000e+03 8.6403471e-01 9.8333335e-01 4.1900679e-01]\n",
      "3 [9.4999999e-01 7.9000000e+03 8.1847686e-01 9.9333334e-01 1.6619760e-01]\n",
      "4 [  0.4        100.           0.82796425   0.92         0.48463702]\n",
      "0.4\n",
      "# [  0.4        100.           0.82796425   0.92         0.48463702]\n",
      "# [4.0000001e-01 2.1000000e+03 8.6064386e-01 9.7000003e-01 4.5270517e-01]\n",
      "# [  0.4        100.           0.82796425   0.92         0.48463702]\n"
     ]
    }
   ],
   "source": [
    "data = np.load(\"thresholds/alignaug_div_find_threshold_dump.npy\")#.astype(np.float)\n",
    "for i in range(2, 5):\n",
    "    print(i, data[np.argsort(data[:, i])[::-1]][0])\n",
    "base(data)\n",
    "data = np.load(\"thresholds/2alignaug_div_find_threshold_dump.npy\")#.astype(np.float)\n",
    "for i in range(2, 5):\n",
    "    print(i, data[np.argsort(data[:, i])[::-1]][0])\n",
    "base(data)\n",
    "data = np.load(\"thresholds/alignaug_div_dice_find_threshold_dump.npy\")#.astype(np.float)\n",
    "for i in range(2, 5):\n",
    "    print(i, data[np.argsort(data[:, i])[::-1]][0])\n",
    "base(data)"
   ]
  },
  {
   "cell_type": "code",
   "execution_count": 51,
   "metadata": {},
   "outputs": [
    {
     "name": "stdout",
     "output_type": "stream",
     "text": [
      "2 [8.9999998e-01 3.8000000e+03 8.6259234e-01 9.9000001e-01 3.8731489e-01]\n",
      "3 [9.7500002e-01 5.9000000e+03 8.3164948e-01 9.9000001e-01 2.4094373e-01]\n",
      "4 [  0.15       100.           0.64782196   0.68666667   0.50291693]\n",
      "0.15\n",
      "# [  0.4        100.           0.7041272    0.76         0.49570107]\n",
      "# [5.250000e-01 4.900000e+03 8.546827e-01 9.766667e-01 3.996374e-01]\n",
      "# [  0.4        100.           0.7041272    0.76         0.49570107]\n",
      "2 [5.0000000e-01 5.4000000e+03 8.5559183e-01 9.8666668e-01 3.6663425e-01]\n",
      "3 [9.4999999e-01 6.9000000e+03 8.2444835e-01 9.9333334e-01 1.9444513e-01]\n",
      "4 [4.0000001e-01 1.0000000e+03 7.3908967e-01 8.0000001e-01 5.1187181e-01]\n",
      "0.4\n",
      "# [4.0000001e-01 1.0000000e+03 7.3908967e-01 8.0000001e-01 5.1187181e-01]\n",
      "# [5.0000000e-01 5.4000000e+03 8.5559183e-01 9.8666668e-01 3.6663425e-01]\n",
      "# [4.0000001e-01 1.0000000e+03 7.3908967e-01 8.0000001e-01 5.1187181e-01]\n"
     ]
    }
   ],
   "source": [
    "data = np.load(\"thresholds/bugged_accum_find_threshold_dump.npy\")#.astype(np.float)\n",
    "for i in range(2, 5):\n",
    "    print(i, data[np.argsort(data[:, i])[::-1]][0])\n",
    "base(data)\n",
    "data = np.load(\"thresholds/accum_bug_tta_find_threshold_dump.npy\")#.astype(np.float)\n",
    "for i in range(2, 5):\n",
    "    print(i, data[np.argsort(data[:, i])[::-1]][0])\n",
    "base(data)"
   ]
  },
  {
   "cell_type": "code",
   "execution_count": null,
   "metadata": {},
   "outputs": [],
   "source": [
    "data = np.load(\"thresholds/alignaug_div_dice_find_threshold_dump.npy\")#.astype(np.float)\n"
   ]
  },
  {
   "cell_type": "code",
   "execution_count": null,
   "metadata": {},
   "outputs": [],
   "source": [
    "len(data)"
   ]
  },
  {
   "cell_type": "code",
   "execution_count": null,
   "metadata": {},
   "outputs": [],
   "source": [
    "thresh_list = np.arange(0.35, 0.9999, 0.01)\n",
    "min_area_list = np.arange(100, 8000, 100)\n",
    "len(thresh_list) * len(min_area_list) * 3 / 60 / 60"
   ]
  },
  {
   "cell_type": "code",
   "execution_count": null,
   "metadata": {},
   "outputs": [],
   "source": [
    "sample_data = data\n",
    "sample_data = sample_data[(np.abs(sample_data[:, 0] - 0.5) < 0.00001)]\n",
    "sample_data = sample_data[(np.abs(sample_data[:, 1] - 3000) < 0.00001)]\n",
    "sample_data"
   ]
  },
  {
   "cell_type": "code",
   "execution_count": null,
   "metadata": {},
   "outputs": [],
   "source": [
    "sample_data = data\n",
    "sample_data = sample_data[(np.abs(sample_data[:, 0] - 0.5) < 0.00001)]\n",
    "print(sample_data[np.argsort(sample_data[:, 2])[:-5:-1]])\n",
    "plt.plot(sample_data[:, 1], sample_data[:, 2], label=\"dice\")\n",
    "plt.plot(sample_data[:, 1], sample_data[:, 3], label=\"dice_neg\")\n",
    "plt.plot(sample_data[:, 1], sample_data[:, 4], label=\"dice_pos\")\n",
    "plt.legend()"
   ]
  },
  {
   "cell_type": "code",
   "execution_count": null,
   "metadata": {
    "scrolled": true
   },
   "outputs": [],
   "source": [
    "sample = data[data[:, 2] > 0.86]\n",
    "sample[np.argsort(sample[:, 3])[:-20:-1]]"
   ]
  },
  {
   "cell_type": "code",
   "execution_count": null,
   "metadata": {},
   "outputs": [],
   "source": [
    "sample_data = data[(data[:, 3] - 0.9889999999999999999)>0.0000000000000000000001]\n",
    "print(sample_data)\n",
    "sample_data = sample_data[np.argsort(sample_data[:, 4])[::-1]]\n",
    "print(sample_data)"
   ]
  },
  {
   "cell_type": "code",
   "execution_count": null,
   "metadata": {},
   "outputs": [],
   "source": [
    "# data2 = data[data[:, 0] > 0.5]\n",
    "for i in range(2, 5):\n",
    "    print(i, data[np.argsort(data[:, i])[::-1]][0])"
   ]
  },
  {
   "cell_type": "code",
   "execution_count": null,
   "metadata": {
    "scrolled": true
   },
   "outputs": [],
   "source": [
    "# data2 = data[data[:, 0] > 0.5]\n",
    "for i in range(2, 5):\n",
    "    print(i, data[np.argsort(data[:, i])[:-6:-1]])"
   ]
  },
  {
   "cell_type": "code",
   "execution_count": null,
   "metadata": {},
   "outputs": [],
   "source": [
    "pred = 0.77714 * data[:, 3] + (1 - 0.77714) * data[:, 4]"
   ]
  },
  {
   "cell_type": "code",
   "execution_count": null,
   "metadata": {},
   "outputs": [],
   "source": [
    "pred[np.argsort(pred)[::-1]][:15].tolist()"
   ]
  },
  {
   "cell_type": "code",
   "execution_count": null,
   "metadata": {},
   "outputs": [],
   "source": [
    "data[np.argsort(pred)[::-1]][:15, [0, 1, 3, 4]].tolist()"
   ]
  },
  {
   "cell_type": "code",
   "execution_count": null,
   "metadata": {},
   "outputs": [],
   "source": [
    "# was_threshold = 0.336101\n",
    "# should_be = 0.8278\n",
    "def results(was_threshold, k, should_be, min_area, old_k=0.7886):\n",
    "    f_data = data[(data[:, 1] == min_area)]\n",
    "    index = np.argmin(np.abs(f_data[:, 0] - was_threshold))\n",
    "    old_kaggle = f_data[index, 2]\n",
    "    pos_val = f_data[index, 4]\n",
    "    neg_val = f_data[index, 3]\n",
    "    kaggle_score = k * neg_val + (1 - k) * pos_val\n",
    "    print(\"Was threshold\\t\", was_threshold)\n",
    "    print(\"Was min_area\\t\", min_area)\n",
    "    print(\"Pos/Neg val\\t\", pos_val, neg_val)\n",
    "    print(\"score old/new\\t\", old_kaggle, kaggle_score)\n",
    "    special_data_x = []\n",
    "    special_data_y = []\n",
    "    for val in np.arange(0.10000, 0.99999, 0.000001):\n",
    "        special_data_x.append(val)\n",
    "        special_data_y.append(neg_val * val + (1-val)*pos_val)\n",
    "\n",
    "    should_index = np.argmin(np.abs(np.array(special_data_y) - should_be))\n",
    "    print(\"Old/new k\\t\", old_k, k)\n",
    "    print(\"\\t\\t\", special_data_x[should_index],special_data_y[should_index])\n",
    "# fig = plt.figure()\n",
    "# plt.plot(special_data_x, special_data_y), plt.show()\n",
    "\n",
    "results(0.5, 0.77714, 0.8351, 3500)\n",
    "print(\"###\")\n",
    "results(0.336101, 0.77714, 0.8278, 3500)\n",
    "print(\"###\")\n",
    "results(0.6000000238418579, 0.77714, 0.8291, 3100, )\n"
   ]
  },
  {
   "cell_type": "code",
   "execution_count": null,
   "metadata": {},
   "outputs": [],
   "source": [
    "len(np.arange(100, 6000, 100))"
   ]
  },
  {
   "cell_type": "code",
   "execution_count": null,
   "metadata": {},
   "outputs": [],
   "source": [
    "len(np.arange(0.1, 0.9999, 0.05))"
   ]
  },
  {
   "cell_type": "code",
   "execution_count": null,
   "metadata": {},
   "outputs": [],
   "source": [
    "18*59"
   ]
  },
  {
   "cell_type": "code",
   "execution_count": null,
   "metadata": {},
   "outputs": [],
   "source": [
    "5*(59*18)/60.0/60.0"
   ]
  },
  {
   "cell_type": "code",
   "execution_count": null,
   "metadata": {},
   "outputs": [],
   "source": [
    "%matplotlib notebook\n",
    "colors = [\"blue\", \"red\", \"green\"]\n",
    "labels = [\"dice\", \"dice_neg\", \"dice_pos\"]\n",
    "indeces = [2, 3]\n",
    "for i in indeces:\n",
    "    plt.plot(data[:, 0], data[:, i], c=colors[i-1], label=labels[i-1])\n",
    "plt.legend()\n",
    "# plt.xticks(data[:, 0][::12].round(2));"
   ]
  },
  {
   "cell_type": "code",
   "execution_count": null,
   "metadata": {},
   "outputs": [],
   "source": [
    "%matplotlib notebook\n",
    "from mpl_toolkits.mplot3d import Axes3D\n",
    "fig = plt.figure()\n",
    "sample = data\n",
    "ax = fig.add_subplot(111, projection='3d')\n",
    "ax.scatter(sample[:, 0], sample[:, 1], sample[:, 2], c=sample[:, 2])\n"
   ]
  },
  {
   "cell_type": "code",
   "execution_count": null,
   "metadata": {},
   "outputs": [],
   "source": [
    "from mpl_toolkits.mplot3d import Axes3D\n",
    "fig = plt.figure()\n",
    "sample = data\n",
    "ax = fig.add_subplot(111, projection='3d')\n",
    "ax.scatter(sample[:, 0], sample[:, 1], sample[:, 3], c=sample[:, 3])"
   ]
  },
  {
   "cell_type": "code",
   "execution_count": null,
   "metadata": {},
   "outputs": [],
   "source": [
    "from mpl_toolkits.mplot3d import Axes3D\n",
    "fig = plt.figure()\n",
    "sample = data\n",
    "ax = fig.add_subplot(111, projection='3d')\n",
    "ax.scatter(sample[:, 0], sample[:, 1], sample[:, 4], c=sample[:, 4])"
   ]
  },
  {
   "cell_type": "code",
   "execution_count": null,
   "metadata": {},
   "outputs": [],
   "source": [
    "thresh_list = np.arange(0.45, 0.9999, 0.025)\n",
    "min_area_list = np.arange(1500, 2500, 100)\n",
    "len(thresh_list) * len(min_area_list) * 3/60.0"
   ]
  },
  {
   "cell_type": "code",
   "execution_count": null,
   "metadata": {},
   "outputs": [],
   "source": [
    "thresh_list = np.arange(0.45, 0.9999, 0.025)\n",
    "min_area_list = np.arange(2500, 6000, 100)\n",
    "len(thresh_list) * len(min_area_list)"
   ]
  },
  {
   "cell_type": "code",
   "execution_count": null,
   "metadata": {},
   "outputs": [],
   "source": [
    "770*3/60.0"
   ]
  },
  {
   "cell_type": "code",
   "execution_count": null,
   "metadata": {},
   "outputs": [],
   "source": []
  },
  {
   "cell_type": "code",
   "execution_count": null,
   "metadata": {},
   "outputs": [],
   "source": [
    "neg_path = \"thresholds/submission_smp_unet_sampler_1024_95_5900.csv\"\n",
    "pos_path = \"thresholds/submission_smp_unet_sampler_1024_40_1500.csv\"\n",
    "neg_df = pd.read_csv(neg_path)\n",
    "pos_df = pd.read_csv(pos_path)\n",
    "neg_df = neg_df[neg_df.EncodedPixels == \" -1\"]\n",
    "print(neg_df.shape)\n",
    "print(pos_df.shape)"
   ]
  },
  {
   "cell_type": "code",
   "execution_count": null,
   "metadata": {},
   "outputs": [],
   "source": [
    "len(pos_df.ImageId.unique())"
   ]
  },
  {
   "cell_type": "code",
   "execution_count": null,
   "metadata": {},
   "outputs": [],
   "source": [
    "pos_df.ImageId.isin(neg_df.ImageId).sum()"
   ]
  },
  {
   "cell_type": "code",
   "execution_count": null,
   "metadata": {},
   "outputs": [],
   "source": [
    "pos_df[pos_df.ImageId.isin(neg_df.ImageId)][\"EncodedPixels\"] = \" -1\"\n",
    "print((pos_df.ImageId == \" -1\").sum())"
   ]
  },
  {
   "cell_type": "code",
   "execution_count": null,
   "metadata": {},
   "outputs": [],
   "source": [
    "len(pos_df.ImageId.unique())"
   ]
  },
  {
   "cell_type": "code",
   "execution_count": null,
   "metadata": {},
   "outputs": [],
   "source": [
    "pos_df.to_csv(\"thresholds/combines.csv\", index=None)"
   ]
  },
  {
   "cell_type": "code",
   "execution_count": null,
   "metadata": {},
   "outputs": [],
   "source": [
    "pos_df.shape"
   ]
  },
  {
   "cell_type": "code",
   "execution_count": null,
   "metadata": {},
   "outputs": [],
   "source": []
  }
 ],
 "metadata": {
  "kernelspec": {
   "display_name": "Python 3",
   "language": "python",
   "name": "python3"
  },
  "language_info": {
   "codemirror_mode": {
    "name": "ipython",
    "version": 3
   },
   "file_extension": ".py",
   "mimetype": "text/x-python",
   "name": "python",
   "nbconvert_exporter": "python",
   "pygments_lexer": "ipython3",
   "version": "3.5.2"
  }
 },
 "nbformat": 4,
 "nbformat_minor": 2
}
