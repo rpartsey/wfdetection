{
 "cells": [
  {
   "cell_type": "code",
   "execution_count": 11,
   "metadata": {},
   "outputs": [],
   "source": [
    "import pandas as pd\n",
    "import numpy as np\n",
    "from matplotlib import pyplot as plt\n",
    "import cv2\n",
    "from tqdm import tqdm_notebook as tqdm\n",
    "import glob"
   ]
  },
  {
   "cell_type": "code",
   "execution_count": 12,
   "metadata": {},
   "outputs": [],
   "source": [
    "import os\n",
    "import sys\n",
    "sys.path.append(\"../\")"
   ]
  },
  {
   "cell_type": "markdown",
   "metadata": {},
   "source": [
    "# Read raw csv"
   ]
  },
  {
   "cell_type": "code",
   "execution_count": 13,
   "metadata": {},
   "outputs": [
    {
     "name": "stderr",
     "output_type": "stream",
     "text": [
      "/home/inkognita/.virtualenvs/ml-py3/lib/python3.5/site-packages/ipykernel_launcher.py:1: ParserWarning: Falling back to the 'python' engine because the 'c' engine does not support regex separators (separators > 1 char and different from '\\s+' are interpreted as regex); you can avoid this warning by specifying engine='python'.\n",
      "  \"\"\"Entry point for launching an IPython kernel.\n"
     ]
    },
    {
     "data": {
      "text/plain": [
       "'-1'"
      ]
     },
     "execution_count": 13,
     "metadata": {},
     "output_type": "execute_result"
    }
   ],
   "source": [
    "df = pd.read_csv(\"../data/raw/train-rle.csv\", dtype=\"str\", sep=\", \")\n",
    "df = df.groupby(\"ImageId\")[\"EncodedPixels\"].apply(list).reset_index()\n",
    "df.iloc[0][\"EncodedPixels\"][0]"
   ]
  },
  {
   "cell_type": "code",
   "execution_count": 14,
   "metadata": {},
   "outputs": [
    {
     "data": {
      "text/html": [
       "<div>\n",
       "<style scoped>\n",
       "    .dataframe tbody tr th:only-of-type {\n",
       "        vertical-align: middle;\n",
       "    }\n",
       "\n",
       "    .dataframe tbody tr th {\n",
       "        vertical-align: top;\n",
       "    }\n",
       "\n",
       "    .dataframe thead th {\n",
       "        text-align: right;\n",
       "    }\n",
       "</style>\n",
       "<table border=\"1\" class=\"dataframe\">\n",
       "  <thead>\n",
       "    <tr style=\"text-align: right;\">\n",
       "      <th></th>\n",
       "      <th>ImageId</th>\n",
       "      <th>EncodedPixels</th>\n",
       "    </tr>\n",
       "  </thead>\n",
       "  <tbody>\n",
       "    <tr>\n",
       "      <th>0</th>\n",
       "      <td>1.2.276.0.7230010.3.1.4.8323329.1000.151787516...</td>\n",
       "      <td>[-1]</td>\n",
       "    </tr>\n",
       "    <tr>\n",
       "      <th>1</th>\n",
       "      <td>1.2.276.0.7230010.3.1.4.8323329.10000.15178752...</td>\n",
       "      <td>[-1]</td>\n",
       "    </tr>\n",
       "    <tr>\n",
       "      <th>2</th>\n",
       "      <td>1.2.276.0.7230010.3.1.4.8323329.10001.15178752...</td>\n",
       "      <td>[-1]</td>\n",
       "    </tr>\n",
       "    <tr>\n",
       "      <th>3</th>\n",
       "      <td>1.2.276.0.7230010.3.1.4.8323329.10002.15178752...</td>\n",
       "      <td>[-1]</td>\n",
       "    </tr>\n",
       "    <tr>\n",
       "      <th>4</th>\n",
       "      <td>1.2.276.0.7230010.3.1.4.8323329.10003.15178752...</td>\n",
       "      <td>[-1]</td>\n",
       "    </tr>\n",
       "  </tbody>\n",
       "</table>\n",
       "</div>"
      ],
      "text/plain": [
       "                                             ImageId EncodedPixels\n",
       "0  1.2.276.0.7230010.3.1.4.8323329.1000.151787516...          [-1]\n",
       "1  1.2.276.0.7230010.3.1.4.8323329.10000.15178752...          [-1]\n",
       "2  1.2.276.0.7230010.3.1.4.8323329.10001.15178752...          [-1]\n",
       "3  1.2.276.0.7230010.3.1.4.8323329.10002.15178752...          [-1]\n",
       "4  1.2.276.0.7230010.3.1.4.8323329.10003.15178752...          [-1]"
      ]
     },
     "execution_count": 14,
     "metadata": {},
     "output_type": "execute_result"
    }
   ],
   "source": [
    "df.head()"
   ]
  },
  {
   "cell_type": "code",
   "execution_count": 15,
   "metadata": {},
   "outputs": [],
   "source": [
    "def _iterate_dcm_dir(in_dir=\"../data/raw/dicom-images-train/\"):\n",
    "    if not in_dir.endswith(\"/\"):\n",
    "        in_dir += \"/\"\n",
    "    for fp in glob.glob(in_dir + '*/*/*.dcm'):\n",
    "        yield fp\n",
    "def id_from_filename(filename):\n",
    "    return os.path.splitext(filename)[0]"
   ]
  },
  {
   "cell_type": "code",
   "execution_count": null,
   "metadata": {},
   "outputs": [],
   "source": [
    "for i, fp in enumerate(_iterate_dcm_dir(\"../data/raw/dicom-images-train/\")):\n",
    "    entry_id = id_from_filename(os.path.basename(fp))\n",
    "    df.loc[df.ImageId == entry_id, \"fp\"] = fp\n"
   ]
  },
  {
   "cell_type": "code",
   "execution_count": null,
   "metadata": {},
   "outputs": [],
   "source": [
    "df.head()"
   ]
  },
  {
   "cell_type": "code",
   "execution_count": null,
   "metadata": {},
   "outputs": [],
   "source": [
    "df[\"empty\"] = df.EncodedPixels.apply(lambda x: x[0] == \"-1\")"
   ]
  },
  {
   "cell_type": "markdown",
   "metadata": {},
   "source": [
    "# Processed csv"
   ]
  },
  {
   "cell_type": "code",
   "execution_count": null,
   "metadata": {},
   "outputs": [],
   "source": [
    "df.head()"
   ]
  },
  {
   "cell_type": "markdown",
   "metadata": {},
   "source": [
    "# Work with photos"
   ]
  },
  {
   "cell_type": "code",
   "execution_count": null,
   "metadata": {},
   "outputs": [],
   "source": [
    "import pydicom\n",
    "def read_dcm(fp, v=0):\n",
    "    \"\"\"\n",
    "    Read dcom file\n",
    "    :param fp: str: dcom file path\n",
    "    :return: np.ndarray: img as numpy array\n",
    "    \"\"\"\n",
    "    ds = pydicom.read_file(fp)  # read dicom image\n",
    "    img = ds.pixel_array  # get image array\n",
    "    if v:\n",
    "        print(ds)\n",
    "    return img, ds.ViewPosition"
   ]
  },
  {
   "cell_type": "code",
   "execution_count": null,
   "metadata": {},
   "outputs": [],
   "source": [
    "fp = df.fp[0]\n",
    "ds = pydicom.read_file(fp)\n",
    "sample_img = ds.pixel_array"
   ]
  },
  {
   "cell_type": "code",
   "execution_count": null,
   "metadata": {},
   "outputs": [],
   "source": [
    "ds.ViewPosition"
   ]
  },
  {
   "cell_type": "code",
   "execution_count": null,
   "metadata": {},
   "outputs": [],
   "source": [
    "print(ds)"
   ]
  },
  {
   "cell_type": "code",
   "execution_count": null,
   "metadata": {},
   "outputs": [],
   "source": [
    "# %matplotlib auto\n",
    "print(pd.Series(sample_img.flatten()).describe())\n",
    "plt.imshow(sample_img, cmap=plt.cm.bone), plt.show()\n",
    "# cv2.imshow(\"Chest\",sample_img), cv2.waitKey(0), cv2.destroyAllWindows()"
   ]
  },
  {
   "cell_type": "code",
   "execution_count": null,
   "metadata": {},
   "outputs": [],
   "source": [
    "%matplotlib inline\n",
    "plt.hist(sample_img.flatten(), bins=190), plt.show();"
   ]
  },
  {
   "cell_type": "code",
   "execution_count": null,
   "metadata": {},
   "outputs": [],
   "source": [
    "plt.plot(pd.Series(sample_img.flatten()).value_counts().sort_index()), plt.show()"
   ]
  },
  {
   "cell_type": "code",
   "execution_count": null,
   "metadata": {},
   "outputs": [],
   "source": [
    "sample_img.max()"
   ]
  },
  {
   "cell_type": "markdown",
   "metadata": {},
   "source": [
    "# Sample img save and restore"
   ]
  },
  {
   "cell_type": "code",
   "execution_count": null,
   "metadata": {},
   "outputs": [],
   "source": [
    "test_img = sample_img.copy()\n",
    "for i in range(20):\n",
    "    cv2.imwrite(\"test_save.png\", test_img)\n",
    "    test_img = cv2.imread(\"test_save.png\", cv2.IMREAD_GRAYSCALE)\n",
    "(test_img == sample_img).mean()"
   ]
  },
  {
   "cell_type": "markdown",
   "metadata": {},
   "source": [
    "-- end sample img"
   ]
  },
  {
   "cell_type": "code",
   "execution_count": null,
   "metadata": {
    "scrolled": true
   },
   "outputs": [],
   "source": [
    "for i, row in df[[\"empty\", \"fp\"]].iterrows():\n",
    "    img, vp = read_dcm(row[\"fp\"])\n",
    "\n",
    "    print(\"Before\", row[\"empty\"], vp, np.mean(img))\n",
    "    dist = pd.Series(img.flatten()).value_counts().sort_index()\n",
    "    plt.figure(figsize=(15, 5))\n",
    "    plt.subplot(121)\n",
    "    plt.imshow(img)\n",
    "    plt.subplot(122)\n",
    "    plt.plot(dist)\n",
    "    plt.show()\n",
    "    \n",
    "    img[img == 0] = 255\n",
    "    print(\"After\", row[\"empty\"], vp, np.mean(img))\n",
    "    dist = pd.Series(img.flatten()).value_counts().sort_index()\n",
    "    plt.figure(figsize=(15, 5))\n",
    "    plt.subplot(121)\n",
    "    plt.imshow(img)\n",
    "    plt.subplot(122)\n",
    "    plt.plot(dist)\n",
    "    plt.show()\n",
    "    \n",
    "    if i > 5:\n",
    "        break\n"
   ]
  },
  {
   "cell_type": "markdown",
   "metadata": {},
   "source": [
    "# Collect info"
   ]
  },
  {
   "cell_type": "code",
   "execution_count": null,
   "metadata": {},
   "outputs": [],
   "source": [
    "df[\"mean\"] = df.fp.apply(lambda x: np.mean(read_dcm(x)[0]))"
   ]
  },
  {
   "cell_type": "code",
   "execution_count": null,
   "metadata": {},
   "outputs": [],
   "source": [
    "def standartize(img):\n",
    "    return (img - img.mean()).astype(np.float) / img.std()\n",
    "df[\"new_mean\"] = df.fp.apply(lambda x: standartize(read_dcm(x)[0]).mean())"
   ]
  },
  {
   "cell_type": "code",
   "execution_count": null,
   "metadata": {},
   "outputs": [],
   "source": [
    "from collections import defaultdict\n",
    "\n",
    "data = defaultdict(list)\n",
    "for row in tqdm(df[\"fp\"].values):\n",
    "    img, vp = read_dcm(row)\n",
    "    data[vp].append(np.mean(img))"
   ]
  },
  {
   "cell_type": "code",
   "execution_count": null,
   "metadata": {},
   "outputs": [],
   "source": [
    "print(data.keys())"
   ]
  },
  {
   "cell_type": "code",
   "execution_count": null,
   "metadata": {},
   "outputs": [],
   "source": [
    "bins = 100\n",
    "plt.figure(figsize=(20, 5))\n",
    "plt.subplot(121)\n",
    "plt.hist(data[\"AP\"], bins=bins)\n",
    "plt.subplot(122)\n",
    "plt.hist(data[\"PA\"], bins=bins)\n",
    "plt.show()"
   ]
  },
  {
   "cell_type": "code",
   "execution_count": null,
   "metadata": {},
   "outputs": [],
   "source": [
    "df[\"mean\"].hist(bins=100)"
   ]
  },
  {
   "cell_type": "code",
   "execution_count": null,
   "metadata": {},
   "outputs": [],
   "source": [
    "df[\"new_mean\"].hist(bins=100)"
   ]
  },
  {
   "cell_type": "code",
   "execution_count": null,
   "metadata": {},
   "outputs": [],
   "source": [
    "np.mean(data[\"PA\"]), np.mean(data[\"AP\"])"
   ]
  },
  {
   "cell_type": "code",
   "execution_count": null,
   "metadata": {},
   "outputs": [],
   "source": [
    "plt_in_row = 5\n",
    "for cls in range(2):\n",
    "    plt.figure(figsize=(20, 8))\n",
    "\n",
    "    if cls == 0:\n",
    "        print(\"Lower 149\")\n",
    "    else:\n",
    "        print(\"Upper 149\")\n",
    "    for plt_i in range(plt_in_row):\n",
    "        row = df.loc[((df[\"mean\"] > 149) == bool(cls))].sample(1)\n",
    "        fp = row[\"fp\"].values[0]\n",
    "        img, _ = read_dcm(fp)\n",
    "        mean = row[\"mean\"].values[0]\n",
    "        mask = img > 0\n",
    "        img_min = img[mask].min()\n",
    "        img_max = img[mask].max()\n",
    "\n",
    "        plt.subplot(2, plt_in_row, plt_i + 1)\n",
    "        plt.title(\"mean:{:.3f} min:{} max:{}\".format(mean, img_min, img_max))\n",
    "        plt.imshow(img)\n",
    "\n",
    "        img = img.astype(np.float)\n",
    "        img[mask] = (img[mask] - img[mask].min()) / (img[mask].max() - img[mask].min()) * 255.0\n",
    "        img[mask] = (img[mask] - img[mask].mean()).astype(np.float) / img[mask].std()\n",
    "        mean = img[mask].mean()\n",
    "\n",
    "        plt.subplot(2, plt_in_row, plt_i + 1 + plt_in_row)\n",
    "        plt.title(mean)\n",
    "        plt.imshow(img)\n",
    "    plt.show()\n"
   ]
  },
  {
   "cell_type": "markdown",
   "metadata": {},
   "source": [
    "# All bad mask"
   ]
  },
  {
   "cell_type": "code",
   "execution_count": null,
   "metadata": {},
   "outputs": [],
   "source": [
    "all_bad_mask = np.zeros((1024, 1024))\n",
    "for fp in tqdm(df.fp.values):\n",
    "    img, _ = read_dcm(fp)\n",
    "    all_bad_mask[img == 0] = 1"
   ]
  },
  {
   "cell_type": "code",
   "execution_count": null,
   "metadata": {},
   "outputs": [],
   "source": [
    "df[\"empty_area\"] = df.fp.apply(lambda x: (read_dcm(x)[0] == 0).sum())"
   ]
  },
  {
   "cell_type": "code",
   "execution_count": null,
   "metadata": {},
   "outputs": [],
   "source": [
    "def without_empty(img):\n",
    "    return img[img != 0]\n",
    "df[\"mean_without_empty\"] = df.fp.apply(lambda x: without_empty(read_dcm(x)[0]).mean())"
   ]
  },
  {
   "cell_type": "code",
   "execution_count": null,
   "metadata": {},
   "outputs": [],
   "source": [
    "df.mean_without_empty.hist(bins=100)"
   ]
  },
  {
   "cell_type": "code",
   "execution_count": null,
   "metadata": {},
   "outputs": [],
   "source": [
    "df.empty_area.value_counts().sort_index()[:10]"
   ]
  },
  {
   "cell_type": "code",
   "execution_count": null,
   "metadata": {},
   "outputs": [],
   "source": [
    "df.empty_area.hist()"
   ]
  },
  {
   "cell_type": "code",
   "execution_count": null,
   "metadata": {},
   "outputs": [],
   "source": [
    "(df.empty_area > (1024 * 1024 * 0.10)).sum()"
   ]
  },
  {
   "cell_type": "code",
   "execution_count": null,
   "metadata": {},
   "outputs": [],
   "source": [
    "df.empty_area[df.empty_area > (1024 * 1024 * 0.25)].hist(bins=100)"
   ]
  },
  {
   "cell_type": "code",
   "execution_count": null,
   "metadata": {
    "scrolled": true
   },
   "outputs": [],
   "source": [
    "for i, fp in tqdm(enumerate(df.fp.values)):\n",
    "    img, _ = read_dcm(fp)\n",
    "    plt.imshow(img == 0), plt.show()\n",
    "    if i > 5:\n",
    "        break"
   ]
  },
  {
   "cell_type": "code",
   "execution_count": null,
   "metadata": {},
   "outputs": [],
   "source": [
    "plt.imshow(all_bad_mask), plt.show();"
   ]
  },
  {
   "cell_type": "code",
   "execution_count": null,
   "metadata": {
    "scrolled": true
   },
   "outputs": [],
   "source": [
    "lower_bound = 1024 * 1024 * 0.1\n",
    "upper_bound = 1024 * 1024 * 0.001\n",
    "i = 0\n",
    "for fp in df[(df.empty_area >= 0) & (df.empty_area < upper_bound)][\"fp\"]:\n",
    "    img, _ = read_dcm(fp)\n",
    "    plt.subplot(121)\n",
    "    plt.imshow(img == 0)\n",
    "    plt.subplot(122)\n",
    "    plt.imshow(img)\n",
    "    plt.show()\n",
    "    i += 1\n",
    "    if i > 5:\n",
    "        break"
   ]
  },
  {
   "cell_type": "markdown",
   "metadata": {},
   "source": [
    "# Cut dataframe with images with small amount of black area"
   ]
  },
  {
   "cell_type": "code",
   "execution_count": null,
   "metadata": {},
   "outputs": [],
   "source": [
    "from utils.mask_functions import rle2mask"
   ]
  },
  {
   "cell_type": "code",
   "execution_count": null,
   "metadata": {},
   "outputs": [],
   "source": [
    "cut_df = df[(df.empty_area >= 0) & (df.empty_area < upper_bound)]"
   ]
  },
  {
   "cell_type": "code",
   "execution_count": null,
   "metadata": {},
   "outputs": [],
   "source": [
    "cut_df.shape"
   ]
  },
  {
   "cell_type": "code",
   "execution_count": null,
   "metadata": {},
   "outputs": [],
   "source": [
    "cut_df[\"empty\"].mean()"
   ]
  },
  {
   "cell_type": "code",
   "execution_count": null,
   "metadata": {},
   "outputs": [],
   "source": [
    "def wrap_rle2mask(lst):\n",
    "    shape = (1024, 1024)\n",
    "    mask = np.zeros(shape, dtype=np.int)\n",
    "    for rle in lst:\n",
    "        mask[rle2mask(rle, *shape) > 0] = 1\n",
    "    return mask"
   ]
  },
  {
   "cell_type": "code",
   "execution_count": null,
   "metadata": {
    "scrolled": true
   },
   "outputs": [],
   "source": [
    "i = 0\n",
    "for _, row in cut_df[~cut_df[\"empty\"]].iterrows():\n",
    "    fp = row[\"fp\"]\n",
    "    mask = wrap_rle2mask(row[\"EncodedPixels\"])\n",
    "    img, _ = read_dcm(fp, v=1)\n",
    "    print(img.mean())\n",
    "    plt.subplot(121)\n",
    "    plt.imshow(img)\n",
    "    plt.subplot(122)\n",
    "    plt.imshow(mask)\n",
    "    plt.show()\n",
    "    i += 1\n",
    "    if i > 5:\n",
    "        break"
   ]
  },
  {
   "cell_type": "markdown",
   "metadata": {},
   "source": [
    "Example of fields:  \n",
    "`(0008, 0005) Specific Character Set              CS: 'ISO_IR 100'\n",
    "(0008, 0016) SOP Class UID                       UI: Secondary Capture Image Storage\n",
    "(0008, 0018) SOP Instance UID                    UI: 1.2.276.0.7230010.3.1.4.8323329.10107.1517875222.121330\n",
    "(0008, 0020) Study Date                          DA: '19010101'\n",
    "(0008, 0030) Study Time                          TM: '000000.00'\n",
    "(0008, 0050) Accession Number                    SH: ''\n",
    "(0008, 0060) Modality                            CS: 'CR'\n",
    "(0008, 0064) Conversion Type                     CS: 'WSD'\n",
    "(0008, 0090) Referring Physician's Name          PN: ''\n",
    "(0008, 103e) Series Description                  LO: 'view: AP'\n",
    "(0010, 0010) Patient's Name                      PN: 'eb0f4cc8-85d7-4089-b670-fc8c65f31dc1'\n",
    "(0010, 0020) Patient ID                          LO: 'eb0f4cc8-85d7-4089-b670-fc8c65f31dc1'\n",
    "(0010, 0030) Patient's Birth Date                DA: ''\n",
    "(0010, 0040) Patient's Sex                       CS: 'M'\n",
    "(0010, 1010) Patient's Age                       AS: '49'\n",
    "(0018, 0015) Body Part Examined                  CS: 'CHEST'\n",
    "(0018, 5101) View Position                       CS: 'AP'\n",
    "(0020, 000d) Study Instance UID                  UI: 1.2.276.0.7230010.3.1.2.8323329.10107.1517875222.121329\n",
    "(0020, 000e) Series Instance UID                 UI: 1.2.276.0.7230010.3.1.3.8323329.10107.1517875222.121328\n",
    "(0020, 0010) Study ID                            SH: ''\n",
    "(0020, 0011) Series Number                       IS: \"1\"\n",
    "(0020, 0013) Instance Number                     IS: \"1\"\n",
    "(0020, 0020) Patient Orientation                 CS: ''\n",
    "(0028, 0002) Samples per Pixel                   US: 1\n",
    "(0028, 0004) Photometric Interpretation          CS: 'MONOCHROME2'\n",
    "(0028, 0010) Rows                                US: 1024\n",
    "(0028, 0011) Columns                             US: 1024\n",
    "(0028, 0030) Pixel Spacing                       DS: ['0.168', '0.168']\n",
    "(0028, 0100) Bits Allocated                      US: 8\n",
    "(0028, 0101) Bits Stored                         US: 8\n",
    "(0028, 0102) High Bit                            US: 7\n",
    "(0028, 0103) Pixel Representation                US: 0\n",
    "(0028, 2110) Lossy Image Compression             CS: '01'\n",
    "(0028, 2114) Lossy Image Compression Method      CS: 'ISO_10918_1'\n",
    "(7fe0, 0010) Pixel Data                          OB: Array of 104072 elements`"
   ]
  },
  {
   "cell_type": "code",
   "execution_count": null,
   "metadata": {},
   "outputs": [],
   "source": [
    "fields_of_interest = [\"Modality\",\n",
    "\"ConversionType\",\n",
    "\"PatientName\",\n",
    "\"PatientID\",\n",
    "\"PatientSex\",\n",
    "\"PatientAge\",\n",
    "\"BodyPartExamined\",\n",
    "\"ViewPosition\",\n",
    "\"SeriesNumber\",\n",
    "\"InstanceNumber\",\n",
    "\"PatientOrientation\",\n",
    "\"SamplesPerPixel\",\n",
    "\"PhotometricInterpretation\",\n",
    "\"Rows\",\n",
    "\"Columns\",\n",
    "\"PixelSpacing\",\n",
    "\"BitsAllocated\",\n",
    "\"BitsStored\",\n",
    "\"HighBit\",\n",
    "\"PixelRepresentation\",\n",
    "\"LossyImageCompression\",\n",
    "\"LossyImageCompressionMethod\"]"
   ]
  },
  {
   "cell_type": "code",
   "execution_count": null,
   "metadata": {},
   "outputs": [],
   "source": [
    "df.index = range(len(df))\n",
    "new_df = defaultdict(list)\n",
    "for i, fp in tqdm(enumerate(df.fp.values)):\n",
    "    ds = pydicom.read_file(fp)\n",
    "    for field in fields_of_interest:\n",
    "        value = getattr(ds, field)\n",
    "        if type(value) == pydicom.multival.MultiValue:\n",
    "            value = value[0]\n",
    "        new_df[field].append(value)\n",
    "for field, values in new_df.items():\n",
    "    df[field] = np.array(values, dtype=str)\n"
   ]
  },
  {
   "cell_type": "code",
   "execution_count": null,
   "metadata": {},
   "outputs": [],
   "source": [
    "# df = pd.read_csv(\"data_with_metadata.csv\", dtype=dtypes)"
   ]
  },
  {
   "cell_type": "code",
   "execution_count": null,
   "metadata": {},
   "outputs": [],
   "source": [
    "df[\"PatientAge\"] = df[\"PatientAge\"].astype(np.int)"
   ]
  },
  {
   "cell_type": "code",
   "execution_count": null,
   "metadata": {},
   "outputs": [],
   "source": [
    "import pickle as pkl"
   ]
  },
  {
   "cell_type": "code",
   "execution_count": null,
   "metadata": {},
   "outputs": [],
   "source": [
    "sums = []\n",
    "for mask_list in tqdm(df.EncodedPixels.values):\n",
    "    if len(mask_list) == 1 and mask_list[0] == '-1':\n",
    "        sums.append(0)\n",
    "    else:\n",
    "        sums.append(wrap_rle2mask(mask_list).sum())\n",
    "df[\"mask_sum\"] = sums"
   ]
  },
  {
   "cell_type": "code",
   "execution_count": null,
   "metadata": {},
   "outputs": [],
   "source": [
    "pkl.dump(df.dtypes.to_frame('dtypes').to_dict()[\"dtypes\"], open(\"dtypes_data_with_metadata.pkl\", \"wb\"))\n",
    "df.to_csv(\"data_with_metadata.csv\", index=False)"
   ]
  },
  {
   "cell_type": "code",
   "execution_count": null,
   "metadata": {},
   "outputs": [],
   "source": []
  }
 ],
 "metadata": {
  "kernelspec": {
   "display_name": "Python 3",
   "language": "python",
   "name": "python3"
  },
  "language_info": {
   "codemirror_mode": {
    "name": "ipython",
    "version": 3
   },
   "file_extension": ".py",
   "mimetype": "text/x-python",
   "name": "python",
   "nbconvert_exporter": "python",
   "pygments_lexer": "ipython3",
   "version": "3.5.2"
  }
 },
 "nbformat": 4,
 "nbformat_minor": 2
}
