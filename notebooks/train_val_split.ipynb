{
 "cells": [
  {
   "cell_type": "code",
   "execution_count": 2,
   "metadata": {},
   "outputs": [],
   "source": [
    "import numpy as np\n",
    "import pandas as pd\n",
    "from matplotlib import pyplot as plt"
   ]
  },
  {
   "cell_type": "code",
   "execution_count": 4,
   "metadata": {},
   "outputs": [],
   "source": [
    "import pickle as pkl"
   ]
  },
  {
   "cell_type": "code",
   "execution_count": 5,
   "metadata": {},
   "outputs": [
    {
     "data": {
      "text/html": [
       "<div>\n",
       "<style scoped>\n",
       "    .dataframe tbody tr th:only-of-type {\n",
       "        vertical-align: middle;\n",
       "    }\n",
       "\n",
       "    .dataframe tbody tr th {\n",
       "        vertical-align: top;\n",
       "    }\n",
       "\n",
       "    .dataframe thead th {\n",
       "        text-align: right;\n",
       "    }\n",
       "</style>\n",
       "<table border=\"1\" class=\"dataframe\">\n",
       "  <thead>\n",
       "    <tr style=\"text-align: right;\">\n",
       "      <th></th>\n",
       "      <th>ImageId</th>\n",
       "      <th>EncodedPixels</th>\n",
       "      <th>fp</th>\n",
       "      <th>empty</th>\n",
       "      <th>mean</th>\n",
       "      <th>new_mean</th>\n",
       "      <th>empty_area</th>\n",
       "      <th>mean_without_empty</th>\n",
       "      <th>Modality</th>\n",
       "      <th>ConversionType</th>\n",
       "      <th>...</th>\n",
       "      <th>Rows</th>\n",
       "      <th>Columns</th>\n",
       "      <th>PixelSpacing</th>\n",
       "      <th>BitsAllocated</th>\n",
       "      <th>BitsStored</th>\n",
       "      <th>HighBit</th>\n",
       "      <th>PixelRepresentation</th>\n",
       "      <th>LossyImageCompression</th>\n",
       "      <th>LossyImageCompressionMethod</th>\n",
       "      <th>mask_sum</th>\n",
       "    </tr>\n",
       "  </thead>\n",
       "  <tbody>\n",
       "    <tr>\n",
       "      <th>0</th>\n",
       "      <td>1.2.276.0.7230010.3.1.4.8323329.1000.151787516...</td>\n",
       "      <td>[-1]</td>\n",
       "      <td>../data/raw/dicom-images-train/1.2.276.0.72300...</td>\n",
       "      <td>True</td>\n",
       "      <td>169.965969</td>\n",
       "      <td>-4.336809e-18</td>\n",
       "      <td>0</td>\n",
       "      <td>169.965969</td>\n",
       "      <td>CR</td>\n",
       "      <td>WSD</td>\n",
       "      <td>...</td>\n",
       "      <td>1024</td>\n",
       "      <td>1024</td>\n",
       "      <td>0.168</td>\n",
       "      <td>8</td>\n",
       "      <td>8</td>\n",
       "      <td>7</td>\n",
       "      <td>0</td>\n",
       "      <td>01</td>\n",
       "      <td>ISO_10918_1</td>\n",
       "      <td>0</td>\n",
       "    </tr>\n",
       "    <tr>\n",
       "      <th>1</th>\n",
       "      <td>1.2.276.0.7230010.3.1.4.8323329.10000.15178752...</td>\n",
       "      <td>[-1]</td>\n",
       "      <td>../data/raw/dicom-images-train/1.2.276.0.72300...</td>\n",
       "      <td>True</td>\n",
       "      <td>71.922405</td>\n",
       "      <td>-1.526557e-16</td>\n",
       "      <td>358243</td>\n",
       "      <td>109.245984</td>\n",
       "      <td>CR</td>\n",
       "      <td>WSD</td>\n",
       "      <td>...</td>\n",
       "      <td>1024</td>\n",
       "      <td>1024</td>\n",
       "      <td>0.139</td>\n",
       "      <td>8</td>\n",
       "      <td>8</td>\n",
       "      <td>7</td>\n",
       "      <td>0</td>\n",
       "      <td>01</td>\n",
       "      <td>ISO_10918_1</td>\n",
       "      <td>0</td>\n",
       "    </tr>\n",
       "    <tr>\n",
       "      <th>2</th>\n",
       "      <td>1.2.276.0.7230010.3.1.4.8323329.10001.15178752...</td>\n",
       "      <td>[-1]</td>\n",
       "      <td>../data/raw/dicom-images-train/1.2.276.0.72300...</td>\n",
       "      <td>True</td>\n",
       "      <td>155.955172</td>\n",
       "      <td>1.821460e-17</td>\n",
       "      <td>1620</td>\n",
       "      <td>156.196488</td>\n",
       "      <td>CR</td>\n",
       "      <td>WSD</td>\n",
       "      <td>...</td>\n",
       "      <td>1024</td>\n",
       "      <td>1024</td>\n",
       "      <td>0.168</td>\n",
       "      <td>8</td>\n",
       "      <td>8</td>\n",
       "      <td>7</td>\n",
       "      <td>0</td>\n",
       "      <td>01</td>\n",
       "      <td>ISO_10918_1</td>\n",
       "      <td>0</td>\n",
       "    </tr>\n",
       "    <tr>\n",
       "      <th>3</th>\n",
       "      <td>1.2.276.0.7230010.3.1.4.8323329.10002.15178752...</td>\n",
       "      <td>[-1]</td>\n",
       "      <td>../data/raw/dicom-images-train/1.2.276.0.72300...</td>\n",
       "      <td>True</td>\n",
       "      <td>125.845778</td>\n",
       "      <td>-4.163336e-17</td>\n",
       "      <td>7486</td>\n",
       "      <td>126.750677</td>\n",
       "      <td>CR</td>\n",
       "      <td>WSD</td>\n",
       "      <td>...</td>\n",
       "      <td>1024</td>\n",
       "      <td>1024</td>\n",
       "      <td>0.139</td>\n",
       "      <td>8</td>\n",
       "      <td>8</td>\n",
       "      <td>7</td>\n",
       "      <td>0</td>\n",
       "      <td>01</td>\n",
       "      <td>ISO_10918_1</td>\n",
       "      <td>0</td>\n",
       "    </tr>\n",
       "    <tr>\n",
       "      <th>4</th>\n",
       "      <td>1.2.276.0.7230010.3.1.4.8323329.10003.15178752...</td>\n",
       "      <td>[-1]</td>\n",
       "      <td>../data/raw/dicom-images-train/1.2.276.0.72300...</td>\n",
       "      <td>True</td>\n",
       "      <td>125.757782</td>\n",
       "      <td>1.457168e-16</td>\n",
       "      <td>1231</td>\n",
       "      <td>125.905592</td>\n",
       "      <td>CR</td>\n",
       "      <td>WSD</td>\n",
       "      <td>...</td>\n",
       "      <td>1024</td>\n",
       "      <td>1024</td>\n",
       "      <td>0.168</td>\n",
       "      <td>8</td>\n",
       "      <td>8</td>\n",
       "      <td>7</td>\n",
       "      <td>0</td>\n",
       "      <td>01</td>\n",
       "      <td>ISO_10918_1</td>\n",
       "      <td>0</td>\n",
       "    </tr>\n",
       "  </tbody>\n",
       "</table>\n",
       "<p>5 rows × 31 columns</p>\n",
       "</div>"
      ],
      "text/plain": [
       "                                             ImageId EncodedPixels  \\\n",
       "0  1.2.276.0.7230010.3.1.4.8323329.1000.151787516...          [-1]   \n",
       "1  1.2.276.0.7230010.3.1.4.8323329.10000.15178752...          [-1]   \n",
       "2  1.2.276.0.7230010.3.1.4.8323329.10001.15178752...          [-1]   \n",
       "3  1.2.276.0.7230010.3.1.4.8323329.10002.15178752...          [-1]   \n",
       "4  1.2.276.0.7230010.3.1.4.8323329.10003.15178752...          [-1]   \n",
       "\n",
       "                                                  fp  empty        mean  \\\n",
       "0  ../data/raw/dicom-images-train/1.2.276.0.72300...   True  169.965969   \n",
       "1  ../data/raw/dicom-images-train/1.2.276.0.72300...   True   71.922405   \n",
       "2  ../data/raw/dicom-images-train/1.2.276.0.72300...   True  155.955172   \n",
       "3  ../data/raw/dicom-images-train/1.2.276.0.72300...   True  125.845778   \n",
       "4  ../data/raw/dicom-images-train/1.2.276.0.72300...   True  125.757782   \n",
       "\n",
       "       new_mean  empty_area  mean_without_empty Modality ConversionType  ...  \\\n",
       "0 -4.336809e-18           0          169.965969       CR            WSD  ...   \n",
       "1 -1.526557e-16      358243          109.245984       CR            WSD  ...   \n",
       "2  1.821460e-17        1620          156.196488       CR            WSD  ...   \n",
       "3 -4.163336e-17        7486          126.750677       CR            WSD  ...   \n",
       "4  1.457168e-16        1231          125.905592       CR            WSD  ...   \n",
       "\n",
       "   Rows Columns PixelSpacing  BitsAllocated BitsStored HighBit  \\\n",
       "0  1024    1024        0.168              8          8       7   \n",
       "1  1024    1024        0.139              8          8       7   \n",
       "2  1024    1024        0.168              8          8       7   \n",
       "3  1024    1024        0.139              8          8       7   \n",
       "4  1024    1024        0.168              8          8       7   \n",
       "\n",
       "  PixelRepresentation LossyImageCompression LossyImageCompressionMethod  \\\n",
       "0                   0                    01                 ISO_10918_1   \n",
       "1                   0                    01                 ISO_10918_1   \n",
       "2                   0                    01                 ISO_10918_1   \n",
       "3                   0                    01                 ISO_10918_1   \n",
       "4                   0                    01                 ISO_10918_1   \n",
       "\n",
       "  mask_sum  \n",
       "0        0  \n",
       "1        0  \n",
       "2        0  \n",
       "3        0  \n",
       "4        0  \n",
       "\n",
       "[5 rows x 31 columns]"
      ]
     },
     "execution_count": 5,
     "metadata": {},
     "output_type": "execute_result"
    }
   ],
   "source": [
    "dtypes = pkl.load(open(\"dtypes_data_with_metadata.pkl\", \"rb\"))\n",
    "df = pd.read_csv(\"data_with_metadata.csv\", dtype=dtypes)\n",
    "df[\"EncodedPixels\"] = df.EncodedPixels.apply(eval)\n",
    "df.loc[df[\"PatientAge\"] > 100, \"PatientAge\"] = 60\n",
    "df.head()"
   ]
  },
  {
   "cell_type": "code",
   "execution_count": 6,
   "metadata": {},
   "outputs": [
    {
     "data": {
      "text/plain": [
       "10675"
      ]
     },
     "execution_count": 6,
     "metadata": {},
     "output_type": "execute_result"
    }
   ],
   "source": [
    "len(df)"
   ]
  },
  {
   "cell_type": "code",
   "execution_count": 22,
   "metadata": {},
   "outputs": [
    {
     "data": {
      "text/plain": [
       "143"
      ]
     },
     "execution_count": 22,
     "metadata": {},
     "output_type": "execute_result"
    }
   ],
   "source": [
    "((df[\"mask_sum\"] < 1500) & (df[\"mask_sum\"] > 0.5)).sum()"
   ]
  },
  {
   "cell_type": "code",
   "execution_count": 10,
   "metadata": {},
   "outputs": [
    {
     "data": {
      "text/plain": [
       "Index(['ImageId', 'EncodedPixels', 'fp', 'empty', 'mean', 'new_mean',\n",
       "       'empty_area', 'mean_without_empty', 'Modality', 'ConversionType',\n",
       "       'PatientName', 'PatientID', 'PatientSex', 'PatientAge',\n",
       "       'BodyPartExamined', 'ViewPosition', 'SeriesNumber', 'InstanceNumber',\n",
       "       'PatientOrientation', 'SamplesPerPixel', 'PhotometricInterpretation',\n",
       "       'Rows', 'Columns', 'PixelSpacing', 'BitsAllocated', 'BitsStored',\n",
       "       'HighBit', 'PixelRepresentation', 'LossyImageCompression',\n",
       "       'LossyImageCompressionMethod', 'mask_sum'],\n",
       "      dtype='object')"
      ]
     },
     "execution_count": 10,
     "metadata": {},
     "output_type": "execute_result"
    }
   ],
   "source": [
    "df.columns"
   ]
  },
  {
   "cell_type": "code",
   "execution_count": 32,
   "metadata": {},
   "outputs": [
    {
     "data": {
      "text/plain": [
       "[<matplotlib.lines.Line2D at 0x7f318e2c3940>]"
      ]
     },
     "execution_count": 32,
     "metadata": {},
     "output_type": "execute_result"
    },
    {
     "data": {
      "image/png": "[encoded data removed]",
      "text/plain": [
       "<Figure size 432x288 with 1 Axes>"
      ]
     },
     "metadata": {
      "needs_background": "light"
     },
     "output_type": "display_data"
    }
   ],
   "source": [
    "sample_df = df[~df[\"empty\"]]\n",
    "plot_data = []\n",
    "for thresh in np.arange(0, 10000, 50):\n",
    "    plot_data.append([thresh, (sample_df[\"mask_sum\"] < thresh).mean()])\n",
    "plot_data = np.array(plot_data)\n",
    "plt.plot(plot_data[:, 0], plot_data[:, 1])"
   ]
  },
  {
   "cell_type": "code",
   "execution_count": 46,
   "metadata": {},
   "outputs": [
    {
     "data": {
      "image/png": "[encoded data removed]",
      "text/plain": [
       "<Figure size 432x288 with 1 Axes>"
      ]
     },
     "metadata": {
      "needs_background": "light"
     },
     "output_type": "display_data"
    }
   ],
   "source": [
    "sample_df = df[~df[\"empty\"]]\n",
    "plt.hist(sample_df[\"mask_sum\"], bins=100);"
   ]
  },
  {
   "cell_type": "code",
   "execution_count": 49,
   "metadata": {},
   "outputs": [
    {
     "name": "stdout",
     "output_type": "stream",
     "text": [
      "0 1296.609243697479\n",
      "1 2732.7125\n",
      "2 4060.5974576271187\n",
      "3 5578.14705882353\n",
      "4 7386.794117647059\n",
      "5 9870.582278481013\n",
      "6 13156.40756302521\n",
      "7 18493.470588235294\n",
      "8 27236.235294117647\n",
      "9 53630.445378151264\n"
     ]
    }
   ],
   "source": [
    "sample_df = df[~df[\"empty\"]][\"mask_sum\"]\n",
    "labels = pd.qcut(sample_df, 10, labels=False)\n",
    "# labels.value_counts()\n",
    "for label in sorted(labels.unique()):\n",
    "    print(label, sample_df[labels == label].mean())"
   ]
  },
  {
   "cell_type": "code",
   "execution_count": 66,
   "metadata": {},
   "outputs": [],
   "source": [
    "validation_size = 600"
   ]
  },
  {
   "cell_type": "code",
   "execution_count": 100,
   "metadata": {},
   "outputs": [
    {
     "name": "stdout",
     "output_type": "stream",
     "text": [
      "[1205, 2472, 5539, 7397, 3746, 544, 9392, 9703, 5072, 3914]\n",
      "[9609, 7614, 3231, 2905, 3372, 8870, 3062, 6691, 6803, 6441]\n"
     ]
    }
   ],
   "source": [
    "np.random.seed(69)\n",
    "X = df[\"ImageId\"].values\n",
    "mask_sum = df[\"mask_sum\"].values\n",
    "y = np.ones(len(X), dtype=np.int) * 10\n",
    "labels = pd.qcut(mask_sum[mask_sum > 0.5], 10, labels=False)\n",
    "y[mask_sum > 0.5] = labels\n",
    "# y = y != 10\n",
    "indeces = np.arange(len(y))\n",
    "val_indeces = []\n",
    "get_from_bucket = (validation_size // 2) // len(np.unique(labels))\n",
    "for cls in range(0, 10):\n",
    "    val_indeces += np.random.choice(indeces[y == cls], size=get_from_bucket, replace=False).tolist()\n",
    "val_indeces += np.random.choice(indeces[y == 10], size=validation_size - len(val_indeces), replace=False).tolist()\n",
    "train_indeces = []\n",
    "set_val_indeces = set(val_indeces)\n",
    "for i in indeces:\n",
    "    if i not in set_val_indeces:\n",
    "        train_indeces.append(i)\n",
    "np.random.shuffle(train_indeces)\n",
    "np.random.shuffle(val_indeces)\n",
    "\n",
    "np.save(\"../split/train.npy\", X[train_indeces])\n",
    "np.save(\"../split/validation.npy\", X[val_indeces])\n",
    "\n",
    "print(val_indeces[:10])\n",
    "print(train_indeces[:10])"
   ]
  },
  {
   "cell_type": "code",
   "execution_count": 104,
   "metadata": {},
   "outputs": [
    {
     "data": {
      "text/plain": [
       "300"
      ]
     },
     "execution_count": 104,
     "metadata": {},
     "output_type": "execute_result"
    }
   ],
   "source": [
    "(y == 10)[val_indeces].sum()"
   ]
  },
  {
   "cell_type": "code",
   "execution_count": 105,
   "metadata": {},
   "outputs": [
    {
     "data": {
      "text/plain": [
       "array(['1.2.276.0.7230010.3.1.4.8323329.4817.1517875184.963295',\n",
       "       '1.2.276.0.7230010.3.1.4.8323329.32483.1517875160.802853',\n",
       "       '1.2.276.0.7230010.3.1.4.8323329.12968.1517875242.785063', ...,\n",
       "       '1.2.276.0.7230010.3.1.4.8323329.5185.1517875186.867502',\n",
       "       '1.2.276.0.7230010.3.1.4.8323329.11093.1517875230.991870',\n",
       "       '1.2.276.0.7230010.3.1.4.8323329.2262.1517875171.857099'],\n",
       "      dtype=object)"
      ]
     },
     "execution_count": 105,
     "metadata": {},
     "output_type": "execute_result"
    }
   ],
   "source": [
    "X[train_indeces]"
   ]
  },
  {
   "cell_type": "code",
   "execution_count": 118,
   "metadata": {},
   "outputs": [
    {
     "ename": "TypeError",
     "evalue": "mean() got an unexpected keyword argument 'keep_dims'",
     "output_type": "error",
     "traceback": [
      "\u001b[0;31m---------------------------------------------------------------------------\u001b[0m",
      "\u001b[0;31mTypeError\u001b[0m                                 Traceback (most recent call last)",
      "\u001b[0;32m<ipython-input-118-3c3ef5357281>\u001b[0m in \u001b[0;36m<module>\u001b[0;34m\u001b[0m\n\u001b[0;32m----> 1\u001b[0;31m \u001b[0mnp\u001b[0m\u001b[0;34m.\u001b[0m\u001b[0mmean\u001b[0m\u001b[0;34m(\u001b[0m\u001b[0mnp\u001b[0m\u001b[0;34m.\u001b[0m\u001b[0mones\u001b[0m\u001b[0;34m(\u001b[0m\u001b[0;34m(\u001b[0m\u001b[0;36m5\u001b[0m\u001b[0;34m,\u001b[0m \u001b[0;36m1\u001b[0m\u001b[0;34m,\u001b[0m \u001b[0;36m5\u001b[0m\u001b[0;34m)\u001b[0m\u001b[0;34m)\u001b[0m\u001b[0;34m,\u001b[0m \u001b[0maxis\u001b[0m\u001b[0;34m=\u001b[0m\u001b[0;36m0\u001b[0m\u001b[0;34m,\u001b[0m \u001b[0mkeep_dims\u001b[0m\u001b[0;34m=\u001b[0m\u001b[0;32mTrue\u001b[0m\u001b[0;34m)\u001b[0m\u001b[0;34m.\u001b[0m\u001b[0mshape\u001b[0m\u001b[0;34m\u001b[0m\u001b[0m\n\u001b[0m",
      "\u001b[0;31mTypeError\u001b[0m: mean() got an unexpected keyword argument 'keep_dims'"
     ]
    }
   ],
   "source": [
    "np.mean(np.ones((5, 1, 5)), axis=0, keep_dims=True).shape"
   ]
  },
  {
   "cell_type": "code",
   "execution_count": null,
   "metadata": {},
   "outputs": [],
   "source": []
  },
  {
   "cell_type": "markdown",
   "metadata": {},
   "source": [
    "# For Bodya"
   ]
  },
  {
   "cell_type": "code",
   "execution_count": 122,
   "metadata": {},
   "outputs": [],
   "source": [
    "csv_path = \"../data/siim-dataset/train-rle.csv\"\n",
    "df = pd.read_csv(csv_path)\n",
    "df = df.groupby(\"ImageId\").first().reset_index()\n",
    "df[\"Label\"] = df[' EncodedPixels'] != ' -1'\n",
    "\n",
    "train_image_ids = np.load(\"../split/train.npy\", allow_pickle=True)\n",
    "val_image_ids = np.load(\"../split/validation.npy\", allow_pickle=True)\n",
    "\n",
    "train_csv = df[df[\"ImageId\"].isin(train_image_ids)].reset_index(drop=True)\n",
    "val_csv = df[df[\"ImageId\"].isin(val_image_ids)].reset_index(drop=True)"
   ]
  },
  {
   "cell_type": "code",
   "execution_count": 129,
   "metadata": {},
   "outputs": [],
   "source": [
    "import os"
   ]
  },
  {
   "cell_type": "code",
   "execution_count": 130,
   "metadata": {},
   "outputs": [],
   "source": [
    "train_csv[\"Path\"] = train_csv.ImageId.apply(lambda x: os.path.join(\"/datasets/processed_512/img/\", \"{}.png\".format(x)))\n",
    "val_csv[\"Path\"] = val_csv.ImageId.apply(lambda x: os.path.join(\"/datasets/processed_512/img/\", \"{}.png\".format(x)))"
   ]
  },
  {
   "cell_type": "code",
   "execution_count": 132,
   "metadata": {},
   "outputs": [],
   "source": [
    "cols = [\"Label\", \"Path\"]\n",
    "train_csv[cols].to_csv(\"bodya_train.csv\", index=None)\n",
    "val_csv[cols].to_csv(\"bodya_val.csv\", index=None)"
   ]
  },
  {
   "cell_type": "code",
   "execution_count": 134,
   "metadata": {},
   "outputs": [
    {
     "data": {
      "text/plain": [
       "100.3"
      ]
     },
     "execution_count": 134,
     "metadata": {},
     "output_type": "execute_result"
    }
   ],
   "source": [
    "thresh_list = np.arange(0.15, 0.9999, 0.025)\n",
    "min_area_list = np.arange(100, 6000, 100)\n",
    "len(thresh_list) * len(min_area_list) * 3 / 60.0"
   ]
  },
  {
   "cell_type": "code",
   "execution_count": 169,
   "metadata": {},
   "outputs": [],
   "source": [
    "import torch\n",
    "import torch.nn as nn\n",
    "import torch.nn.functional as F\n",
    "class OfficialBinaryFocalLoss(nn.Module):\n",
    "    def __init__(self, alpha=0.25, gamma=2.0):\n",
    "        super(OfficialBinaryFocalLoss, self).__init__()\n",
    "        self.alpha = alpha\n",
    "        self.gamma = gamma\n",
    "\n",
    "    def forward(self, inputs, targets):\n",
    "        targets = targets.float()\n",
    "        pos = (targets > 0.5).float()\n",
    "        neg = (targets < 0.5).float()\n",
    "        BCE_loss = F.binary_cross_entropy_with_logits(inputs, targets, reduction=\"none\")\n",
    "        pt = torch.exp(-BCE_loss)\n",
    "        F_loss = (1 - pt) ** self.gamma * BCE_loss\n",
    "        F_loss = self.alpha * pos * F_loss + (1 - self.alpha) * neg * F_loss\n",
    "        return torch.mean(F_loss)"
   ]
  },
  {
   "cell_type": "code",
   "execution_count": 170,
   "metadata": {},
   "outputs": [],
   "source": [
    "loss = OfficialBinaryFocalLoss(alpha=.25)"
   ]
  },
  {
   "cell_type": "code",
   "execution_count": 173,
   "metadata": {},
   "outputs": [],
   "source": [
    "inp = torch.tensor([\n",
    "    [\n",
    "        [\n",
    "            [0.45, 0.45],\n",
    "            [0.45, 0.45]\n",
    "        ]\n",
    "    ],\n",
    "    [\n",
    "        [\n",
    "            [0.45, 0.45],\n",
    "            [0.45, 0.45]\n",
    "        ]\n",
    "    ]\n",
    "])\n",
    "out = torch.zeros(2, 1, 2, 2)\n",
    "out[1, 0, 0, 0] = 1"
   ]
  },
  {
   "cell_type": "code",
   "execution_count": 186,
   "metadata": {},
   "outputs": [],
   "source": [
    "BCE_loss = F.binary_cross_entropy_with_logits(inp, out, reduce=False)"
   ]
  },
  {
   "cell_type": "code",
   "execution_count": 182,
   "metadata": {},
   "outputs": [
    {
     "data": {
      "text/plain": [
       "tensor(4.5400e-05)"
      ]
     },
     "execution_count": 182,
     "metadata": {},
     "output_type": "execute_result"
    }
   ],
   "source": [
    "torch.exp(torch.tensor(-10.0))"
   ]
  },
  {
   "cell_type": "code",
   "execution_count": 174,
   "metadata": {},
   "outputs": [
    {
     "data": {
      "text/plain": [
       "tensor(0.2332)"
      ]
     },
     "execution_count": 174,
     "metadata": {},
     "output_type": "execute_result"
    }
   ],
   "source": [
    "loss(inp , out)"
   ]
  },
  {
   "cell_type": "code",
   "execution_count": 159,
   "metadata": {},
   "outputs": [
    {
     "data": {
      "text/plain": [
       "tensor([0.8500, 0.8500, 0.8500, 0.8500, 0.8500, 0.8500, 0.8500, 0.8500])"
      ]
     },
     "execution_count": 159,
     "metadata": {},
     "output_type": "execute_result"
    }
   ],
   "source": [
    "alpha = torch.Tensor([0.15, 1-0.15])\n",
    "alpha.gather(0,out.long().view(-1))"
   ]
  },
  {
   "cell_type": "code",
   "execution_count": 162,
   "metadata": {},
   "outputs": [
    {
     "data": {
      "text/plain": [
       "0.16431676725154984"
      ]
     },
     "execution_count": 162,
     "metadata": {},
     "output_type": "execute_result"
    }
   ],
   "source": [
    "0.09 ** (3/4)"
   ]
  },
  {
   "cell_type": "code",
   "execution_count": 164,
   "metadata": {},
   "outputs": [
    {
     "data": {
      "text/plain": [
       "24.0"
      ]
     },
     "execution_count": 164,
     "metadata": {},
     "output_type": "execute_result"
    }
   ],
   "source": [
    "thresh_list = np.arange(0.40, 0.9999, 0.05)\n",
    "min_area_list = np.arange(1500, 6000, 100)\n",
    "len(thresh_list) * len(min_area_list) * 3/60"
   ]
  },
  {
   "cell_type": "code",
   "execution_count": 199,
   "metadata": {},
   "outputs": [],
   "source": [
    "import numbers\n",
    "\n",
    "import torch\n",
    "\n",
    "from ignite.metrics import Metric, MetricsLambda\n",
    "from ignite.exceptions import NotComputableError\n",
    "from ignite.utils import to_onehot\n",
    "\n",
    "\n",
    "class ConfusionMatrix(Metric):\n",
    "    \"\"\"Calculates confusion matrix for multi-class data.\n",
    "\n",
    "    - `update` must receive output of the form `(y_pred, y)`.\n",
    "    - `y_pred` must contain logits and has the following shape (batch_size, num_categories, ...)\n",
    "    - `y` can be of two types:\n",
    "        - shape (batch_size, num_categories, ...)\n",
    "        - shape (batch_size, ...) and contains ground-truth class indices\n",
    "\n",
    "    Args:\n",
    "        num_classes (int): number of classes. In case of images, num_classes should also count the background index 0.\n",
    "        average (str, optional): confusion matrix values averaging schema: None, \"samples\", \"recall\", \"precision\".\n",
    "            Default is None. If `average=\"samples\"` then confusion matrix values are normalized by the number of seen\n",
    "            samples. If `average=\"recall\"` then confusion matrix values are normalized such that diagonal values\n",
    "            represent class recalls. If `average=\"precision\"` then confusion matrix values are normalized such that\n",
    "            diagonal values represent class precisions.\n",
    "        output_transform (callable, optional): a callable that is used to transform the\n",
    "            :class:`~ignite.engine.Engine`'s `process_function`'s output into the\n",
    "            form expected by the metric. This can be useful if, for example, you have a multi-output model and\n",
    "            you want to compute the metric with respect to one of the outputs.\n",
    "    \"\"\"\n",
    "\n",
    "    def __init__(self, num_classes, average=None, output_transform=lambda x: x):\n",
    "        if average is not None and average not in (\"samples\", \"recall\", \"precision\"):\n",
    "            raise ValueError(\"Argument average can None or one of ['samples', 'recall', 'precision']\")\n",
    "\n",
    "        self.num_classes = num_classes\n",
    "        self._num_examples = 0\n",
    "        self.average = average\n",
    "        self.confusion_matrix = None\n",
    "        super(ConfusionMatrix, self).__init__(output_transform=output_transform)\n",
    "\n",
    "    def reset(self):\n",
    "        self.confusion_matrix = torch.zeros(self.num_classes, self.num_classes, dtype=torch.float)\n",
    "        self._num_examples = 0\n",
    "\n",
    "    def _check_shape(self, output):\n",
    "        y_pred, y = output\n",
    "\n",
    "        if y_pred.ndimension() < 2:\n",
    "            raise ValueError(\"y_pred must have shape (batch_size, num_categories, ...), \"\n",
    "                             \"but given {}\".format(y_pred.shape))\n",
    "\n",
    "        if y_pred.shape[1] != self.num_classes:\n",
    "            raise ValueError(\"y_pred does not have correct number of categories: {} vs {}\"\n",
    "                             .format(y_pred.shape[1], self.num_classes))\n",
    "\n",
    "        if not (y.ndimension() == y_pred.ndimension() or y.ndimension() + 1 == y_pred.ndimension()):\n",
    "            raise ValueError(\"y_pred must have shape (batch_size, num_categories, ...) and y must have \"\n",
    "                             \"shape of (batch_size, num_categories, ...) or (batch_size, ...), \"\n",
    "                             \"but given {} vs {}.\".format(y.shape, y_pred.shape))\n",
    "\n",
    "        y_shape = y.shape\n",
    "        y_pred_shape = y_pred.shape\n",
    "\n",
    "        if y.ndimension() + 1 == y_pred.ndimension():\n",
    "            y_pred_shape = (y_pred_shape[0],) + y_pred_shape[2:]\n",
    "\n",
    "        if y_shape != y_pred_shape:\n",
    "            raise ValueError(\"y and y_pred must have compatible shapes.\")\n",
    "\n",
    "        return y_pred, y\n",
    "\n",
    "    def update(self, output):\n",
    "        y_pred, y = self._check_shape(output)\n",
    "\n",
    "        if y_pred.shape != y.shape:\n",
    "            y_ohe = to_onehot(y.reshape(-1), self.num_classes)\n",
    "            y_ohe_t = y_ohe.transpose(0, 1).float()\n",
    "        else:\n",
    "            y_ohe_t = y.transpose(1, -1).reshape(y.shape[1], -1).float()\n",
    "\n",
    "        indices = torch.argmax(y_pred, dim=1)\n",
    "        y_pred_ohe = to_onehot(indices.reshape(-1), self.num_classes)\n",
    "        y_pred_ohe = y_pred_ohe.float()\n",
    "\n",
    "        if self.confusion_matrix.type() != y_ohe_t.type():\n",
    "            self.confusion_matrix = self.confusion_matrix.type_as(y_ohe_t)\n",
    "\n",
    "        self.confusion_matrix += torch.matmul(y_ohe_t, y_pred_ohe).float()\n",
    "        self._num_examples += y_pred.shape[0]\n",
    "\n",
    "    def compute(self):\n",
    "        if self._num_examples == 0:\n",
    "            raise NotComputableError('Confusion matrix must have at least one example before it can be computed.')\n",
    "        if self.average:\n",
    "            if self.average == \"samples\":\n",
    "                return self.confusion_matrix / self._num_examples\n",
    "            elif self.average == \"recall\":\n",
    "                return self.confusion_matrix / (self.confusion_matrix.sum(dim=1) + 1e-15)\n",
    "            elif self.average == \"precision\":\n",
    "                return self.confusion_matrix / (self.confusion_matrix.sum(dim=0) + 1e-15)\n",
    "        return self.confusion_matrix.cpu()"
   ]
  },
  {
   "cell_type": "code",
   "execution_count": 226,
   "metadata": {},
   "outputs": [],
   "source": [
    "a = ConfusionMatrix(2)"
   ]
  },
  {
   "cell_type": "code",
   "execution_count": 227,
   "metadata": {},
   "outputs": [],
   "source": [
    "z1 = torch.Tensor([0, 0, 0, 1, 1, 0, 0]).long()\n",
    "                ## 1  1  0  1  0  0\n",
    "z2 = torch.Tensor([\n",
    "    [0, 1], #1\n",
    "    [0, 1], #1\n",
    "    [1, 0], #0\n",
    "    [0, 1], #1\n",
    "    [1, 0], #0\n",
    "    [1, 0],  #0\n",
    "    [0, 1], #1\n",
    "])\n",
    "a.update((z2, z1))"
   ]
  },
  {
   "cell_type": "code",
   "execution_count": 228,
   "metadata": {},
   "outputs": [
    {
     "data": {
      "text/plain": [
       "tensor([[2., 3.],\n",
       "        [1., 1.]])"
      ]
     },
     "execution_count": 228,
     "metadata": {},
     "output_type": "execute_result"
    }
   ],
   "source": [
    "a.compute()"
   ]
  },
  {
   "cell_type": "code",
   "execution_count": 233,
   "metadata": {},
   "outputs": [
    {
     "data": {
      "text/plain": [
       "[<matplotlib.lines.Line2D at 0x7f3138247358>]"
      ]
     },
     "execution_count": 233,
     "metadata": {},
     "output_type": "execute_result"
    },
    {
     "data": {
      "image/png": "[encoded data removed]",
      "text/plain": [
       "<Figure size 432x288 with 1 Axes>"
      ]
     },
     "metadata": {
      "needs_background": "light"
     },
     "output_type": "display_data"
    }
   ],
   "source": [
    "x = []\n",
    "values = []\n",
    "for i in range(0, 255):\n",
    "    val = float(i)/255.0\n",
    "    x.append(val)\n",
    "#     values.append(np.log(val + 1.0))\n",
    "    values.append(val**2 - 1.0)\n",
    "plt.plot(x, values)"
   ]
  },
  {
   "cell_type": "code",
   "execution_count": null,
   "metadata": {},
   "outputs": [],
   "source": []
  }
 ],
 "metadata": {
  "kernelspec": {
   "display_name": "Python 3",
   "language": "python",
   "name": "python3"
  },
  "language_info": {
   "codemirror_mode": {
    "name": "ipython",
    "version": 3
   },
   "file_extension": ".py",
   "mimetype": "text/x-python",
   "name": "python",
   "nbconvert_exporter": "python",
   "pygments_lexer": "ipython3",
   "version": "3.5.2"
  }
 },
 "nbformat": 4,
 "nbformat_minor": 2
}
